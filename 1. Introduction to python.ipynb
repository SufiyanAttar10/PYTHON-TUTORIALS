{
 "cells": [
  {
   "cell_type": "markdown",
   "id": "0979af8f",
   "metadata": {},
   "source": [
    "# Introduction to Python\n",
    "\n",
    "- Why python\n",
    "- Python v/s R\n",
    "- Python used for?\n",
    "- Python IDE's\n",
    "- Python Installation\n",
    "- Welcome to python jupyter notebook\n",
    "- Jupyter notebook Introduction\n",
    "\n",
    "#### Why Python\n",
    "- Python is open source, high level programming language. \n",
    "- Awesome online community\n",
    "- works on different OS(Windows, Linux)\n",
    "- Syntax is similar to english language\n",
    "- It is used in start-ups to world's top companies like Uber, Ola, Youtube, Google etc.\n",
    "\n",
    "#### Python v/s R\n",
    "- In advanced analytics world, there has been several debates on R vs. Python.\n",
    "- There are some areas such as number of libraries for statistical analysis, where R wins over Python.\n",
    "- Python is catching up very fast -  With popularity of big data and data science, Python has become first programming language of data scientists.\n",
    "\n",
    "\n",
    "#### Python is used for\n",
    "- Web developement\n",
    "- Data Science and AI\n",
    "- Gaming\n",
    "- Database system connection\n",
    "\n",
    "#### Python IDE's\n",
    "- Python\n",
    "- PyCharm\n",
    "- Jupyter Notebook\n",
    "\n",
    "#### Python Editor\n",
    "- Sublime Text\n",
    "- Atom\n",
    "- VSC\n",
    "\n",
    "#### Python Installation \n",
    "- Windows : Please visit [python site](https://www.python.org/downloads/), Download latest python version. \n",
    "or visit [this site](https://www.howtogeek.com/197947/how-to-install-python-on-windows/) , you'll get idea how to install python in windows\n",
    "\n",
    "- Linux/Ubuntu : \n",
    "- - open the terminal and run following command\n",
    "- - sudo apt-get install python==3.6.0 \n",
    "\n",
    "#### What is anaconda and Installation\n",
    "- Windows:\n",
    "- Anaconda is free distribution of the Python and R language, Jupyter Notebook one of the top IDE's comes under the Anaconda Distribution. \n",
    "- Installation: Please visit [site](https://www.anaconda.com/products/individual) and install Anaconda disribution.  or else please follow this instruction [site](https://docs.anaconda.com/anaconda/install/windows/)\n",
    "- Linux/ubuntu:\n",
    "- Installation of anaconda distribution in Linux/ubuntu Distribution, follow this instructions [site](https://linuxx.info/installing-anaconda-on-ubuntu/)\n",
    "\n",
    "#### What is Jupyter notebook \n",
    "- Jupyter notebook is the one of the top python IDE that allows users to see data, code, output and Explanatory Text in single browser-based file. Through out this lecture / series of python we'll use Jupyter notebook python IDE.\n",
    "\n",
    "#### How to open Jupyter notebook \n",
    "- method 1: launch jupyter notebook from anaconda distribution\n",
    "- method 2: search jupyter notebook in start menu , and open jupyter notebook (double click)\n",
    "- method 3: search anaconda prompt and open it , then type jupyter notebook in terminal\n",
    "\n",
    "#### Jupyter notebook Introduction\n",
    "\n",
    "- Let's play with jupyter notebook...."
   ]
  },
  {
   "cell_type": "markdown",
   "id": "1741a319",
   "metadata": {},
   "source": [
    "##### Download Jupyter notebook as pdf\n",
    "- https://miktex.org/howto/install-miktex"
   ]
  },
  {
   "cell_type": "markdown",
   "id": "a8b810ee",
   "metadata": {},
   "source": [
    "##### Python resources\n",
    "- https://realpython.com/python-basics/resources/"
   ]
  },
  {
   "cell_type": "markdown",
   "id": "6a6485a3",
   "metadata": {},
   "source": [
    "#### use jupyter notebook online\n",
    "- https://colab.research.google.com/"
   ]
  },
  {
   "cell_type": "markdown",
   "id": "1feda124",
   "metadata": {},
   "source": [
    "Lets start!"
   ]
  },
  {
   "cell_type": "code",
   "execution_count": null,
   "id": "e08cd28d",
   "metadata": {},
   "outputs": [],
   "source": []
  }
 ],
 "metadata": {
  "kernelspec": {
   "display_name": "Python 3 (ipykernel)",
   "language": "python",
   "name": "python3"
  },
  "language_info": {
   "codemirror_mode": {
    "name": "ipython",
    "version": 3
   },
   "file_extension": ".py",
   "mimetype": "text/x-python",
   "name": "python",
   "nbconvert_exporter": "python",
   "pygments_lexer": "ipython3",
   "version": "3.9.12"
  }
 },
 "nbformat": 4,
 "nbformat_minor": 5
}
