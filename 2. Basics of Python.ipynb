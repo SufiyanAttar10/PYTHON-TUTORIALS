{
 "cells": [
  {
   "cell_type": "markdown",
   "metadata": {
    "id": "ZEiB5oR2qPiN"
   },
   "source": [
    "# Basic of python\n",
    "\n",
    "#### 1. Basic\n",
    "- 1.1 Adding Comment\n",
    "- 1.2 Print function\n",
    "- 1.3 Statements\n",
    "\n",
    "#### 2. Python Identifiers\n",
    "\n",
    "- 2.1 Variable assignment\n",
    "- 2.2 Assigning 'string' (str) value to variable\n",
    "- 2.3 Assigning numerical value to variable\n",
    "- 2.4 We can recall variable name for printing output instead of using print function (only in jupyter notebook)\n",
    "\n",
    "\n"
   ]
  },
  {
   "cell_type": "markdown",
   "metadata": {
    "id": "7NkcmutZqPiO"
   },
   "source": [
    "### 1.1 Adding Comment :\n",
    "- To add comment we can use either  ' # ' in code or direct write down in Markdown . \n",
    "- Also we can use  \"\"\" Hello World  \"\"\" for multiple lines ."
   ]
  },
  {
   "cell_type": "code",
   "execution_count": null,
   "metadata": {
    "id": "qJYNTvtEqPiO"
   },
   "outputs": [],
   "source": [
    "# adding comment "
   ]
  },
  {
   "cell_type": "code",
   "execution_count": null,
   "metadata": {},
   "outputs": [],
   "source": [
    "# Single line comment\n",
    "var1 = 9"
   ]
  },
  {
   "cell_type": "code",
   "execution_count": null,
   "metadata": {},
   "outputs": [],
   "source": [
    "# sub of two numbers\n",
    "10-5"
   ]
  },
  {
   "cell_type": "code",
   "execution_count": null,
   "metadata": {},
   "outputs": [],
   "source": [
    "# Multiple\n",
    "# line\n",
    "# comment\n",
    "val1 =7"
   ]
  },
  {
   "cell_type": "code",
   "execution_count": null,
   "metadata": {},
   "outputs": [],
   "source": [
    "'''\n",
    "Multiple\n",
    "line\n",
    "comment\n",
    "'''\n",
    "val1 = 7"
   ]
  },
  {
   "cell_type": "markdown",
   "metadata": {
    "id": "DbDrANdpqPiP"
   },
   "source": [
    "### 1.2 Print function :\n",
    "In python if we want call function then we can use simply their name follwed by arguments if exists in parentheses."
   ]
  },
  {
   "cell_type": "code",
   "execution_count": null,
   "metadata": {
    "id": "EcPn2XbkqPiQ"
   },
   "outputs": [],
   "source": [
    "# For example in print function we give what we need to print in parentheses"
   ]
  },
  {
   "cell_type": "code",
   "execution_count": null,
   "metadata": {
    "id": "_JCe7qhTqPiQ",
    "outputId": "3c2f9e53-a793-400a-c6b9-f83d0cdb4566"
   },
   "outputs": [],
   "source": [
    "# Lets run our first python code by printing \"Hello World\" \n",
    "print(\"Hello World\")"
   ]
  },
  {
   "cell_type": "code",
   "execution_count": null,
   "metadata": {
    "id": "RVIPuLBtqPiR",
    "outputId": "7f25778b-9d35-454b-cbe4-4fe051d561f2"
   },
   "outputs": [],
   "source": [
    "print('''Hello World! Let's Learn Python together''')"
   ]
  },
  {
   "cell_type": "code",
   "execution_count": null,
   "metadata": {
    "id": "VvA6qbJPqPiS",
    "outputId": "34ffba3d-f049-4340-c5d2-ba3c775d7ff1"
   },
   "outputs": [],
   "source": [
    "print('Python is the best language')"
   ]
  },
  {
   "cell_type": "markdown",
   "metadata": {},
   "source": [
    "### 1.3 statements"
   ]
  },
  {
   "cell_type": "code",
   "execution_count": null,
   "metadata": {},
   "outputs": [],
   "source": [
    "# Single line statement\n",
    "p1 = 50 + 50\n",
    "p1"
   ]
  },
  {
   "cell_type": "code",
   "execution_count": null,
   "metadata": {},
   "outputs": [],
   "source": [
    "# Multiple line statement\n",
    "p1 = 20 + 30 + 40 + 50 \\\n",
    "     + 70 + 80 + 90 +100 \\\n",
    "     +110 + 120 \n",
    "p1"
   ]
  },
  {
   "cell_type": "markdown",
   "metadata": {
    "id": "jyRdVy1XqPiS"
   },
   "source": [
    "### 2. Python Identifiers :\n",
    "It is a identifier/name used to define a variable , function , class. It is used to make difference between entities. "
   ]
  },
  {
   "cell_type": "markdown",
   "metadata": {
    "id": "8zasyrvFqPiT"
   },
   "source": [
    "###### We have to take care of following things while writing identifiers\n",
    "1. It can be of any length . \n",
    "2. It can be combination of lower cases (a-z) , upper cases (A-Z) and digits (0-9).\n",
    "3. It can't be start with digit.\n",
    "4. It can't be include special symbols like { !, @, #, $ , % }, etc\n",
    "5. We can use '_' i.e underscore in identifire for attaching two strings or one string and one number.\n",
    "6. We can't give space between letters, words or between letter and digit.\n",
    "7. We can't use python keywords as a python identifier\n",
    "\n",
    "-- Python keywords :\n",
    "\n",
    "**in , and , or , if , else , elif , def , while , break , True , False , etc .**\n",
    "\n",
    "python keywords are used to define the syntax and structure of the Python language."
   ]
  },
  {
   "cell_type": "code",
   "execution_count": null,
   "metadata": {
    "id": "iYomYHgmqPiT"
   },
   "outputs": [],
   "source": [
    "## Examples of python identifiers"
   ]
  },
  {
   "cell_type": "markdown",
   "metadata": {
    "id": "z0uq715eqPiU"
   },
   "source": [
    "We can write identifier of any length like \n",
    "- myname\n",
    "- myvillage\n",
    "- myschoolmarks\n"
   ]
  },
  {
   "cell_type": "markdown",
   "metadata": {
    "id": "oQgU98ibqPiV"
   },
   "source": [
    "We can combine letters and words while writing identifiers\n",
    "- Myname \n",
    "- Mybirth19Nov\n",
    "- myfavNo7"
   ]
  },
  {
   "cell_type": "markdown",
   "metadata": {
    "id": "n4NSvM8pqPiW"
   },
   "source": [
    "Identifiers using underscore  \n",
    "- my_name \n",
    "- my_number \n",
    "- my_village"
   ]
  },
  {
   "cell_type": "markdown",
   "metadata": {
    "id": "Fp0JylB4qPiW"
   },
   "source": [
    "We can't start our identifier by digit\n",
    "- 1stvariable \n",
    "- 19thnumber\n"
   ]
  },
  {
   "cell_type": "markdown",
   "metadata": {
    "id": "D_Nm-30qqPiX"
   },
   "source": [
    "We can't include any special symbol at any position while writing identifier \n",
    "- name@\n",
    "- hello!\n",
    "- time@2pm\n",
    "- $rupees\n",
    "- #brand "
   ]
  },
  {
   "cell_type": "markdown",
   "metadata": {
    "id": "L6ONi4zgqPiX"
   },
   "source": [
    "We can't write identifier using space between characcters \n",
    "- my name \n",
    "- my number \n",
    "- my village "
   ]
  },
  {
   "cell_type": "markdown",
   "metadata": {
    "id": "wCyfbUSoqPiX"
   },
   "source": [
    "### 2.1 Variable assignment : "
   ]
  },
  {
   "cell_type": "markdown",
   "metadata": {
    "id": "c2KTZUSHqPiX"
   },
   "source": [
    "#### Variable is used to store value and we use '=' i.e. assignment operator to assign value to it. \n",
    "####  We can assign any value to variable i.e. both categorical and numerical."
   ]
  },
  {
   "cell_type": "markdown",
   "metadata": {
    "id": "yHiNe_bXqPiY"
   },
   "source": [
    "#### 2.2  Assigning 'string' (str) value to variable"
   ]
  },
  {
   "cell_type": "code",
   "execution_count": null,
   "metadata": {
    "id": "IvOHFNIIqPiY",
    "outputId": "51365f7a-cde3-4abc-cc00-6b4f349c9137"
   },
   "outputs": [],
   "source": [
    "# here we assign sufiyan value to my_name variable\n",
    "my_name = \"Sufiyan\"\n",
    "print(my_name)"
   ]
  },
  {
   "cell_type": "code",
   "execution_count": null,
   "metadata": {
    "id": "BRpisccLqPiY",
    "outputId": "3ee7a5d2-269e-4066-ce7e-367310c05c1c"
   },
   "outputs": [],
   "source": [
    "# we can check type of variable i.e type of it's value \n",
    "type(my_name)"
   ]
  },
  {
   "cell_type": "code",
   "execution_count": null,
   "metadata": {
    "id": "O7HhJj9GqPiZ",
    "outputId": "cbf5e2e9-cf1f-4566-931a-f111de8a2b06"
   },
   "outputs": [],
   "source": [
    "# also we can use single Quotation mark i.e. ' ' for assigning string value to variable\n",
    "myname='Aaira'\n",
    "print(my_name) "
   ]
  },
  {
   "cell_type": "code",
   "execution_count": null,
   "metadata": {
    "id": "-sk5DIYVqPiZ",
    "outputId": "7f141231-943b-4ebb-a54f-4376fad409ad"
   },
   "outputs": [],
   "source": [
    "# we can also add space after assignment operator and in between Quotation marks for presentation or understanding purpose\n",
    "my_name = \"  Aaira \" \n",
    "print(my_name)"
   ]
  },
  {
   "cell_type": "code",
   "execution_count": null,
   "metadata": {
    "id": "g37C6ptNqPiZ",
    "outputId": "28f05d4a-9de8-4579-f51d-60ec7ab90886"
   },
   "outputs": [],
   "source": [
    "my_city  =  '  Mumbai    '\n",
    "print(my_city)"
   ]
  },
  {
   "cell_type": "code",
   "execution_count": null,
   "metadata": {
    "id": "1YlMWcseqPiZ",
    "outputId": "68f87c62-9bfb-4bc0-9a17-e56185473e76"
   },
   "outputs": [],
   "source": [
    "# but we can use either single Quotation mark or double Quotation mark at a time, ow it will give an error \n",
    "my_name = \" sufiyan \""
   ]
  },
  {
   "cell_type": "code",
   "execution_count": null,
   "metadata": {
    "id": "q0bJMVP_qPia"
   },
   "outputs": [],
   "source": [
    "# we can update value of variable and once variable get updated it will give updated value after calling this variable"
   ]
  },
  {
   "cell_type": "code",
   "execution_count": null,
   "metadata": {
    "id": "OrkuYjOWqPia",
    "outputId": "5cbf8eaf-0d40-4c2c-e605-d5cce000f669"
   },
   "outputs": [],
   "source": [
    "my_name= \"Sufiyan\"\n",
    "print(my_name)"
   ]
  },
  {
   "cell_type": "code",
   "execution_count": null,
   "metadata": {
    "id": "7E1mEn30qPia",
    "outputId": "bbd1123c-96ef-4f38-e2e9-b633f614da29"
   },
   "outputs": [],
   "source": [
    "# we can assign whole statement to single variable \n",
    "place = '''I am live in Mumbai.\n",
    "bandra '''\n",
    "print(place)"
   ]
  },
  {
   "cell_type": "code",
   "execution_count": null,
   "metadata": {},
   "outputs": [],
   "source": [
    "my_info = 'sufiyan'\n",
    "print(my_info)"
   ]
  },
  {
   "cell_type": "code",
   "execution_count": null,
   "metadata": {},
   "outputs": [],
   "source": [
    "my_info = 'Mumbai'\n",
    "print(my_info)"
   ]
  },
  {
   "cell_type": "markdown",
   "metadata": {
    "id": "TrSi0qtvqPia"
   },
   "source": [
    "#### 2.3  Assigning numerical value to variable "
   ]
  },
  {
   "cell_type": "markdown",
   "metadata": {
    "id": "hghxH3I9qPib"
   },
   "source": [
    "#### There are two types of numbers \n",
    " 1.  integer :An integer is a number with no decimal or fractional part, from the set of negative and positive numbers,         including zero \n",
    " 2.  float   :A float is a number with a decimal place\n"
   ]
  },
  {
   "cell_type": "code",
   "execution_count": null,
   "metadata": {
    "id": "sWzpXBmTqPib",
    "outputId": "dfc3c4e5-3f35-447a-bf87-c2d59ca977e3"
   },
   "outputs": [],
   "source": [
    "# here we assign integer number 10 to my_number variable\n",
    "my_number =  10\n",
    "print(my_number)"
   ]
  },
  {
   "cell_type": "code",
   "execution_count": null,
   "metadata": {
    "id": "80s6Bj_0qPib",
    "outputId": "a8067ef3-06fe-46b1-c5aa-c69817d5ee6e"
   },
   "outputs": [],
   "source": [
    "type(my_number)"
   ]
  },
  {
   "cell_type": "code",
   "execution_count": null,
   "metadata": {
    "id": "v0fBQ-iNqPib",
    "outputId": "10244644-2bd9-4bc1-a936-396db1dd068b"
   },
   "outputs": [],
   "source": [
    "# we can also update interger value of variable\n",
    "my_number = 15\n",
    "print(my_number)"
   ]
  },
  {
   "cell_type": "code",
   "execution_count": null,
   "metadata": {
    "id": "Y8KFVM25qPic",
    "outputId": "a4d09148-7563-4d94-c15b-d412d1639ccb"
   },
   "outputs": [],
   "source": [
    "my_number1 = 31\n",
    "print(my_number1)"
   ]
  },
  {
   "cell_type": "code",
   "execution_count": null,
   "metadata": {
    "id": "0AiUPwhxqPic",
    "outputId": "ff672052-8144-4942-ab4c-f289f84fa023"
   },
   "outputs": [],
   "source": [
    "# here we assign real number 5.4 to my_num variable\n",
    "my_num = 3.8\n",
    "print(my_num)"
   ]
  },
  {
   "cell_type": "code",
   "execution_count": null,
   "metadata": {
    "id": "XGK8Q8vqqPic",
    "outputId": "6bfe9adf-6c18-4a91-b240-002a55249ab5"
   },
   "outputs": [],
   "source": [
    "type(my_num)"
   ]
  },
  {
   "cell_type": "code",
   "execution_count": null,
   "metadata": {
    "id": "7H4SWeARqPic",
    "outputId": "aad3b2e3-247a-4990-a954-c646af322955"
   },
   "outputs": [],
   "source": [
    "# we can update real value of variable \n",
    "my_num = 12.7\n",
    "print(my_num)"
   ]
  },
  {
   "cell_type": "code",
   "execution_count": null,
   "metadata": {
    "id": "D9rGrAdYqPic",
    "outputId": "3fd6200f-caf0-4617-c9ee-96b57d20daf9"
   },
   "outputs": [],
   "source": [
    "my_num1 = 43.1\n",
    "print(my_num1)"
   ]
  },
  {
   "cell_type": "markdown",
   "metadata": {
    "id": "t6tOGv6NqPic"
   },
   "source": [
    "#### 2.4  We can recall variable name for printing output instead of using print function"
   ]
  },
  {
   "cell_type": "code",
   "execution_count": null,
   "metadata": {
    "id": "QvQriOP4qPid",
    "outputId": "8a1afdc4-e8e2-4ace-f769-9aadd84952c1"
   },
   "outputs": [],
   "source": [
    "my_name"
   ]
  },
  {
   "cell_type": "code",
   "execution_count": null,
   "metadata": {},
   "outputs": [],
   "source": [
    "my_info"
   ]
  },
  {
   "cell_type": "code",
   "execution_count": null,
   "metadata": {},
   "outputs": [],
   "source": [
    "print(8)"
   ]
  },
  {
   "cell_type": "code",
   "execution_count": null,
   "metadata": {
    "id": "it4LEt-gqPid",
    "outputId": "20a3cb6b-7cb8-4b43-adfd-513ddcef94f8"
   },
   "outputs": [],
   "source": [
    "my_number"
   ]
  },
  {
   "cell_type": "code",
   "execution_count": null,
   "metadata": {
    "id": "8dWO6JSRqPid",
    "outputId": "99193f9d-b352-4ae8-db8a-8f1562377ba9"
   },
   "outputs": [],
   "source": [
    "# jupyter notebook cell prints last code line \n",
    "my_name\n",
    "my_number"
   ]
  },
  {
   "cell_type": "code",
   "execution_count": null,
   "metadata": {
    "id": "3rCwPQrXqPid",
    "outputId": "7b0ea60f-d716-4aec-d3e2-686eb556e694"
   },
   "outputs": [],
   "source": [
    "# if we want print more outputs of same cell then we need to use print function\n",
    "print(my_name)\n",
    "my_number"
   ]
  },
  {
   "cell_type": "markdown",
   "metadata": {},
   "source": [
    "#### 2.5  Multiple Assignments"
   ]
  },
  {
   "cell_type": "code",
   "execution_count": null,
   "metadata": {},
   "outputs": [],
   "source": [
    "intvar , floatvar , strvar = 10,2.57,\"Python Language\" # Using commas to separate\n",
    "print(intvar)\n",
    "print(floatvar)\n",
    "print(strvar)"
   ]
  },
  {
   "cell_type": "code",
   "execution_count": null,
   "metadata": {},
   "outputs": [],
   "source": [
    "a = b = c = d = 21 # All variables pointing to same value\n",
    "print(a,b,c,d)"
   ]
  },
  {
   "cell_type": "markdown",
   "metadata": {},
   "source": [
    "# Data Types\n",
    "1. Numeric - Float and integer\n",
    "2. String\n",
    "3. Boolean"
   ]
  },
  {
   "cell_type": "code",
   "execution_count": null,
   "metadata": {},
   "outputs": [],
   "source": [
    "# Numeric\n",
    "val1 = 10 # Integer data type\n",
    "val2 = 10.2 # Float data type\n",
    "print(val1)\n",
    "print(val2)"
   ]
  },
  {
   "cell_type": "code",
   "execution_count": null,
   "metadata": {},
   "outputs": [],
   "source": [
    "# Boolean\n",
    "# Boolean data type can have only two possible values true or false.\n",
    "bool1 = True\n",
    "bool2 = False\n",
    "print(bool1)\n",
    "print(bool2)"
   ]
  },
  {
   "cell_type": "code",
   "execution_count": null,
   "metadata": {},
   "outputs": [],
   "source": [
    "# string\n",
    "str1 = \"HELLO PYTHON\"\n",
    "print(str1)"
   ]
  },
  {
   "cell_type": "code",
   "execution_count": null,
   "metadata": {},
   "outputs": [],
   "source": []
  }
 ],
 "metadata": {
  "colab": {
   "name": "Basics of Python.ipynb",
   "provenance": []
  },
  "kernelspec": {
   "display_name": "Python 3 (ipykernel)",
   "language": "python",
   "name": "python3"
  },
  "language_info": {
   "codemirror_mode": {
    "name": "ipython",
    "version": 3
   },
   "file_extension": ".py",
   "mimetype": "text/x-python",
   "name": "python",
   "nbconvert_exporter": "python",
   "pygments_lexer": "ipython3",
   "version": "3.9.12"
  }
 },
 "nbformat": 4,
 "nbformat_minor": 1
}
