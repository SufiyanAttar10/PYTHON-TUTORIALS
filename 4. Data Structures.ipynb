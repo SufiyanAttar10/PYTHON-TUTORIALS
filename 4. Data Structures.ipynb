{
 "cells": [
  {
   "cell_type": "markdown",
   "id": "cQNr4aEyDF1t",
   "metadata": {
    "id": "cQNr4aEyDF1t"
   },
   "source": [
    "# Data Structures"
   ]
  },
  {
   "cell_type": "markdown",
   "id": "eYyI6klDDF1x",
   "metadata": {
    "id": "eYyI6klDDF1x"
   },
   "source": [
    "#### 1. List \n",
    "- 1.1 List of strings\n",
    "- 1.2 List of numbers\n",
    "- 1.3 List of strings and numbers\n",
    "- 1.4 Slicing of list using index\n",
    "- 1.5 Some operations on list\n",
    "\n",
    "#### 2. Tuple\n",
    "- 2.1 Tuple of strings\n",
    "- 2.2 Tuple of numbers\n",
    "- 2.3 Tuple of strings and numbers\n",
    "- 2.4 Slicing of Tuple using index\n",
    "- 2.5 Some operations on tuple\n",
    "\n",
    "#### 3.Set\n",
    "- 3.1 Different types of set \n",
    "- 3.2 Operations on set\n",
    "\n",
    "#### 4 . Dictionary \n",
    "- 4.1 Different types of dictionary \n",
    "- 4.2 Operations on dictionary\n",
    "- 4.1 Slicing in dictionary"
   ]
  },
  {
   "cell_type": "markdown",
   "id": "sPCU-_0KDF1z",
   "metadata": {
    "id": "sPCU-_0KDF1z"
   },
   "source": [
    "## 1: List\n",
    "- Lists are used to store multiple items in single variable. \n",
    "- Lists are made up of same or different types of data.It is comma seperated values having index. \n",
    "- Lists can be updated.\n",
    "- List is an unordered sequence of items\n",
    "- We can have different data types under a list. E.g we can have integer, float and string items in a same list."
   ]
  },
  {
   "cell_type": "markdown",
   "id": "794fc9b5",
   "metadata": {},
   "source": [
    "#### List Creation"
   ]
  },
  {
   "cell_type": "code",
   "execution_count": 1,
   "id": "460fdf33",
   "metadata": {},
   "outputs": [],
   "source": [
    "list1 = [] # Empty List [item1, item2 ,..., itemn]"
   ]
  },
  {
   "cell_type": "code",
   "execution_count": 2,
   "id": "ad5d165e",
   "metadata": {},
   "outputs": [
    {
     "name": "stdout",
     "output_type": "stream",
     "text": [
      "<class 'list'>\n"
     ]
    }
   ],
   "source": [
    "print(type(list1))"
   ]
  },
  {
   "cell_type": "markdown",
   "id": "QAFWoYBDDF1z",
   "metadata": {
    "id": "QAFWoYBDDF1z"
   },
   "source": [
    "#### 1.1 List of strings "
   ]
  },
  {
   "cell_type": "code",
   "execution_count": 3,
   "id": "OTkMk0quDF10",
   "metadata": {
    "id": "OTkMk0quDF10"
   },
   "outputs": [
    {
     "name": "stdout",
     "output_type": "stream",
     "text": [
      "['Ajay', 'Gaurav', 'Akshay', 'Dev']\n"
     ]
    }
   ],
   "source": [
    "# list of strings in single Quotation mark\n",
    "names = ['Ajay','Gaurav','Akshay','Dev']\n",
    "print(names)"
   ]
  },
  {
   "cell_type": "code",
   "execution_count": 4,
   "id": "qS1tciB7DF11",
   "metadata": {
    "id": "qS1tciB7DF11"
   },
   "outputs": [
    {
     "data": {
      "text/plain": [
       "list"
      ]
     },
     "execution_count": 4,
     "metadata": {},
     "output_type": "execute_result"
    }
   ],
   "source": [
    "type(names)"
   ]
  },
  {
   "cell_type": "markdown",
   "id": "mU925atZDF13",
   "metadata": {
    "id": "mU925atZDF13"
   },
   "source": [
    "#### 1.2 List of numbers"
   ]
  },
  {
   "cell_type": "code",
   "execution_count": 5,
   "id": "MRd1wa9GDF13",
   "metadata": {
    "id": "MRd1wa9GDF13",
    "outputId": "e4633340-8b62-420f-e991-9230a33502de"
   },
   "outputs": [
    {
     "name": "stdout",
     "output_type": "stream",
     "text": [
      "[1, 2, 3, 4]\n"
     ]
    }
   ],
   "source": [
    "# list of integer numbers\n",
    "numbers = [1,2,3,4]\n",
    "print(numbers)"
   ]
  },
  {
   "cell_type": "code",
   "execution_count": 6,
   "id": "k_rsLMyODF13",
   "metadata": {
    "id": "k_rsLMyODF13",
    "outputId": "25fdbab8-7007-4ebf-cf55-53dbd0323ab3"
   },
   "outputs": [
    {
     "data": {
      "text/plain": [
       "list"
      ]
     },
     "execution_count": 6,
     "metadata": {},
     "output_type": "execute_result"
    }
   ],
   "source": [
    "type(numbers)"
   ]
  },
  {
   "cell_type": "code",
   "execution_count": 7,
   "id": "b5wrbeEZDF14",
   "metadata": {
    "id": "b5wrbeEZDF14",
    "outputId": "6cc8c2a6-72ae-4dd4-c8c4-bb3a65237ea8"
   },
   "outputs": [
    {
     "data": {
      "text/plain": [
       "[12.5, 26.5, 30.16, 23.07]"
      ]
     },
     "execution_count": 7,
     "metadata": {},
     "output_type": "execute_result"
    }
   ],
   "source": [
    "# list of real numbers\n",
    "num = [12.5,26.5,30.16,23.07]\n",
    "num"
   ]
  },
  {
   "cell_type": "code",
   "execution_count": 8,
   "id": "aMSdFnGuDF14",
   "metadata": {
    "id": "aMSdFnGuDF14",
    "outputId": "387c472f-11a9-4880-a8f1-400e46e86b79"
   },
   "outputs": [
    {
     "data": {
      "text/plain": [
       "type"
      ]
     },
     "execution_count": 8,
     "metadata": {},
     "output_type": "execute_result"
    }
   ],
   "source": [
    "type(list)"
   ]
  },
  {
   "cell_type": "code",
   "execution_count": 9,
   "id": "MTsyaBVpDF14",
   "metadata": {
    "id": "MTsyaBVpDF14",
    "outputId": "4f6cb429-d18d-4bf7-fdb1-171f032462b6"
   },
   "outputs": [
    {
     "data": {
      "text/plain": [
       "[12, 15, 17.5, 20.57]"
      ]
     },
     "execution_count": 9,
     "metadata": {},
     "output_type": "execute_result"
    }
   ],
   "source": [
    "# list of real and integer numbers\n",
    "num1 = [12,15,17.5,20.57]\n",
    "num1"
   ]
  },
  {
   "cell_type": "code",
   "execution_count": 10,
   "id": "BvQ5zY2RDF14",
   "metadata": {
    "id": "BvQ5zY2RDF14",
    "outputId": "3130b066-39f6-439a-d18d-62a39eaae86c"
   },
   "outputs": [
    {
     "data": {
      "text/plain": [
       "list"
      ]
     },
     "execution_count": 10,
     "metadata": {},
     "output_type": "execute_result"
    }
   ],
   "source": [
    "type(num1)"
   ]
  },
  {
   "cell_type": "markdown",
   "id": "G0MlIWtbDF15",
   "metadata": {
    "id": "G0MlIWtbDF15"
   },
   "source": [
    "#### 1.3 List of strings and numbers"
   ]
  },
  {
   "cell_type": "code",
   "execution_count": 11,
   "id": "VFUxeHpZDF17",
   "metadata": {
    "id": "VFUxeHpZDF17",
    "outputId": "245f45f5-428e-4a2f-85e5-1e5194181b02"
   },
   "outputs": [
    {
     "data": {
      "text/plain": [
       "[25, 30.17, 'kartik']"
      ]
     },
     "execution_count": 11,
     "metadata": {},
     "output_type": "execute_result"
    }
   ],
   "source": [
    "# list of mixed dat types -> integer, real numbers and string\n",
    "names_strings1 = [25, 30.17, 'kartik']\n",
    "names_strings1"
   ]
  },
  {
   "cell_type": "code",
   "execution_count": 12,
   "id": "XI68bYv-DF17",
   "metadata": {
    "id": "XI68bYv-DF17",
    "outputId": "72d14ab1-e2cf-4132-efce-1ab1e8e2114d"
   },
   "outputs": [
    {
     "data": {
      "text/plain": [
       "list"
      ]
     },
     "execution_count": 12,
     "metadata": {},
     "output_type": "execute_result"
    }
   ],
   "source": [
    "type(names_strings1)"
   ]
  },
  {
   "cell_type": "code",
   "execution_count": 13,
   "id": "8d429afb",
   "metadata": {},
   "outputs": [
    {
     "data": {
      "text/plain": [
       "3"
      ]
     },
     "execution_count": 13,
     "metadata": {},
     "output_type": "execute_result"
    }
   ],
   "source": [
    "len(names_strings1) #Length of list"
   ]
  },
  {
   "cell_type": "code",
   "execution_count": 14,
   "id": "n8zoj8gIDF17",
   "metadata": {
    "id": "n8zoj8gIDF17",
    "outputId": "f1de0f06-fe44-4983-fd70-054a09b707f5"
   },
   "outputs": [
    {
     "data": {
      "text/plain": [
       "[1, 3, [3, 5]]"
      ]
     },
     "execution_count": 14,
     "metadata": {},
     "output_type": "execute_result"
    }
   ],
   "source": [
    "# Nested lists\n",
    "list1=[1,3,[3,5]]\n",
    "list1"
   ]
  },
  {
   "cell_type": "code",
   "execution_count": 15,
   "id": "XLI1NsynDF18",
   "metadata": {
    "id": "XLI1NsynDF18",
    "outputId": "6322f816-33ef-4983-96e5-cc821c88563d"
   },
   "outputs": [
    {
     "data": {
      "text/plain": [
       "list"
      ]
     },
     "execution_count": 15,
     "metadata": {},
     "output_type": "execute_result"
    }
   ],
   "source": [
    "type(list1)"
   ]
  },
  {
   "cell_type": "markdown",
   "id": "2S3OG4G3DF18",
   "metadata": {
    "id": "2S3OG4G3DF18"
   },
   "source": [
    "#### 1.4 Slicing of list using index"
   ]
  },
  {
   "cell_type": "markdown",
   "id": "-t9miGD3DF18",
   "metadata": {
    "id": "-t9miGD3DF18"
   },
   "source": [
    "We can extract single element or multiple elements of list by using respective index of that element.\n",
    "Only we hvae to put index in square bracket i.e. ' [ ] ' followed by list name . Indexing start from zero. "
   ]
  },
  {
   "cell_type": "code",
   "execution_count": 16,
   "id": "GANZyQI8DF18",
   "metadata": {
    "id": "GANZyQI8DF18",
    "outputId": "23c91941-5861-4cf9-dfc3-1ceeb33093e6"
   },
   "outputs": [
    {
     "data": {
      "text/plain": [
       "['Ajay', 'Gaurav', 'Akshay', 'Dev']"
      ]
     },
     "execution_count": 16,
     "metadata": {},
     "output_type": "execute_result"
    }
   ],
   "source": [
    "names"
   ]
  },
  {
   "cell_type": "code",
   "execution_count": 17,
   "id": "kVi24vKuDF18",
   "metadata": {
    "id": "kVi24vKuDF18",
    "outputId": "1a5195aa-c605-4afc-caaf-c378655f0d4a"
   },
   "outputs": [
    {
     "data": {
      "text/plain": [
       "'Ajay'"
      ]
     },
     "execution_count": 17,
     "metadata": {},
     "output_type": "execute_result"
    }
   ],
   "source": [
    "# here we extract first element of list \n",
    "names[0]"
   ]
  },
  {
   "cell_type": "code",
   "execution_count": 18,
   "id": "c5_XFSiKDF18",
   "metadata": {
    "id": "c5_XFSiKDF18",
    "outputId": "a36a532d-cb3b-456a-9355-767caea47b63"
   },
   "outputs": [
    {
     "data": {
      "text/plain": [
       "'Dev'"
      ]
     },
     "execution_count": 18,
     "metadata": {},
     "output_type": "execute_result"
    }
   ],
   "source": [
    "# here we extract last element \n",
    "names[3]"
   ]
  },
  {
   "cell_type": "code",
   "execution_count": 19,
   "id": "IXBL7WwXDF18",
   "metadata": {
    "id": "IXBL7WwXDF18",
    "outputId": "18edc6fd-fafb-4cde-a2e2-ff66c570ae95"
   },
   "outputs": [
    {
     "data": {
      "text/plain": [
       "'Dev'"
      ]
     },
     "execution_count": 19,
     "metadata": {},
     "output_type": "execute_result"
    }
   ],
   "source": [
    "# we can also get last element as \n",
    "names[-1]"
   ]
  },
  {
   "cell_type": "code",
   "execution_count": 20,
   "id": "QW3yA1w-DF19",
   "metadata": {
    "id": "QW3yA1w-DF19",
    "outputId": "16343971-0d25-4715-993b-bd763bfe81d3"
   },
   "outputs": [
    {
     "data": {
      "text/plain": [
       "'A'"
      ]
     },
     "execution_count": 20,
     "metadata": {},
     "output_type": "execute_result"
    }
   ],
   "source": [
    "names[0][0] # Nested indexing - Access the first character of the first list elem"
   ]
  },
  {
   "cell_type": "code",
   "execution_count": 21,
   "id": "HFfJxCBBDF19",
   "metadata": {
    "id": "HFfJxCBBDF19",
    "outputId": "993e2370-609c-4486-9306-8fd9c72bdaf2"
   },
   "outputs": [
    {
     "data": {
      "text/plain": [
       "['Ajay', 'Gaurav', 'Akshay']"
      ]
     },
     "execution_count": 21,
     "metadata": {},
     "output_type": "execute_result"
    }
   ],
   "source": [
    "\"\"\"\n",
    "Suppose we have to get a multiple elements having position 0 to (n)th  \n",
    "then we have to pass indexing start from zero to index (n-1) i.e. [0:n]\n",
    "\"\"\"\n",
    "\n",
    "names[0:3]"
   ]
  },
  {
   "cell_type": "code",
   "execution_count": 22,
   "id": "3LSB9MjSDF19",
   "metadata": {
    "id": "3LSB9MjSDF19",
    "outputId": "08cac435-8d75-4a5d-df39-95f8af00e8fa"
   },
   "outputs": [
    {
     "data": {
      "text/plain": [
       "['Akshay', 'Dev']"
      ]
     },
     "execution_count": 22,
     "metadata": {},
     "output_type": "execute_result"
    }
   ],
   "source": [
    "\"\"\"  \n",
    "Suppose we have to extract last two elements of list having n elements i.e.\n",
    "We have to get elements having position (n-1)th and nth in list means elements having indexes (n-2)th and (n-1)th\n",
    "In our case we have 4 elements means we have to pass indexes from 2 to 4 i.e [2:4]\n",
    "\n",
    "\"\"\"\n",
    "names[2:4]"
   ]
  },
  {
   "cell_type": "code",
   "execution_count": 23,
   "id": "PBc6NV5xDF19",
   "metadata": {
    "id": "PBc6NV5xDF19",
    "outputId": "8c7c7ae3-5d75-4388-e558-e2f70c9c2404"
   },
   "outputs": [
    {
     "data": {
      "text/plain": [
       "[1, 3, [3, 5]]"
      ]
     },
     "execution_count": 23,
     "metadata": {},
     "output_type": "execute_result"
    }
   ],
   "source": [
    "# slicing in list having one of the element as list \n",
    "list1"
   ]
  },
  {
   "cell_type": "code",
   "execution_count": 24,
   "id": "CrlQm-BQDF19",
   "metadata": {
    "id": "CrlQm-BQDF19",
    "outputId": "cb953757-1044-4db4-e653-610af6ea545f"
   },
   "outputs": [
    {
     "data": {
      "text/plain": [
       "[3, 5]"
      ]
     },
     "execution_count": 24,
     "metadata": {},
     "output_type": "execute_result"
    }
   ],
   "source": [
    "# we can extract list from list having one element as list\n",
    "list1[2]"
   ]
  },
  {
   "cell_type": "code",
   "execution_count": 25,
   "id": "oh-L2aF1DF19",
   "metadata": {
    "id": "oh-L2aF1DF19",
    "outputId": "ad2f5a51-87ea-46a9-dc4d-e26996af8cc2"
   },
   "outputs": [
    {
     "data": {
      "text/plain": [
       "3"
      ]
     },
     "execution_count": 25,
     "metadata": {},
     "output_type": "execute_result"
    }
   ],
   "source": [
    "\"\"\"\n",
    "we can also extract element of list from list having one element as list i.e. \n",
    "here our main list contain list at position 3 means having index 2 and \n",
    "in that list there are two elements out of which we are extracting first one \n",
    "\n",
    "\"\"\" \n",
    "\n",
    "list1[2][0]"
   ]
  },
  {
   "cell_type": "markdown",
   "id": "sSh1cSH3DF19",
   "metadata": {
    "id": "sSh1cSH3DF19"
   },
   "source": [
    "#### Note :  Same criteria of slicing we can apply for all types of lists i.e. list of numbers and  list of both numbers and strings"
   ]
  },
  {
   "cell_type": "markdown",
   "id": "EQMEi8aJDF1-",
   "metadata": {
    "id": "EQMEi8aJDF1-"
   },
   "source": [
    "#### 1.5 Operations on list"
   ]
  },
  {
   "cell_type": "markdown",
   "id": "Hz551V8JDF1-",
   "metadata": {
    "id": "Hz551V8JDF1-"
   },
   "source": [
    "We can do multiple operations on lists as they are mutable"
   ]
  },
  {
   "cell_type": "code",
   "execution_count": 26,
   "id": "nqjdzR5SDF1-",
   "metadata": {
    "id": "nqjdzR5SDF1-",
    "outputId": "084a439b-0c6d-46f6-c703-7c22ba5da3e8"
   },
   "outputs": [
    {
     "name": "stdout",
     "output_type": "stream",
     "text": [
      "4\n"
     ]
    }
   ],
   "source": [
    "# to check how many number of elements are present in single list\n",
    "list1=['India','Australia','England','Sri Lanka']\n",
    "print(len(list1))"
   ]
  },
  {
   "cell_type": "code",
   "execution_count": 27,
   "id": "w7mk3IKpDF1-",
   "metadata": {
    "id": "w7mk3IKpDF1-",
    "outputId": "e3a40d32-1c2a-4339-9741-0a233db4a6b9"
   },
   "outputs": [
    {
     "name": "stdout",
     "output_type": "stream",
     "text": [
      "['India', 'Australia', 'UK', 'Sri Lanka']\n"
     ]
    }
   ],
   "source": [
    "# replace element in list\n",
    "list1=['India','Australia','England','Sri Lanka']\n",
    "list1[2]='UK'\n",
    "print(list1)"
   ]
  },
  {
   "cell_type": "code",
   "execution_count": 28,
   "id": "NfjxPZ5SDF1-",
   "metadata": {
    "id": "NfjxPZ5SDF1-",
    "outputId": "2044a75f-c560-4d8e-c7cb-91ca1a9a686b"
   },
   "outputs": [
    {
     "name": "stdout",
     "output_type": "stream",
     "text": [
      "['India', 'Australia', 'England', 'Sri Lanka', 'Japan']\n"
     ]
    }
   ],
   "source": [
    "# add element to the list\n",
    "list1=['India','Australia','England','Sri Lanka']\n",
    "\n",
    "list1.append('Japan') # by default \n",
    "\n",
    "print(list1)"
   ]
  },
  {
   "cell_type": "code",
   "execution_count": 29,
   "id": "XQaEa_JrDF1-",
   "metadata": {
    "id": "XQaEa_JrDF1-",
    "outputId": "69ac7531-b80f-4519-ab2e-33033b64a436"
   },
   "outputs": [
    {
     "name": "stdout",
     "output_type": "stream",
     "text": [
      "['India', 'UK', 'Australia', 'England', 'Sri Lanka']\n"
     ]
    }
   ],
   "source": [
    "# add element at particular index\n",
    "list1=['India','Australia','England','Sri Lanka']\n",
    "\n",
    "list1.insert(1, 'UK')\n",
    "\n",
    "#list1.insert(1,'America')\n",
    "print(list1)"
   ]
  },
  {
   "cell_type": "code",
   "execution_count": 30,
   "id": "oCqSQ0RWDF1-",
   "metadata": {
    "id": "oCqSQ0RWDF1-",
    "outputId": "83950b0f-3dd5-407b-d353-347d5c018058"
   },
   "outputs": [
    {
     "name": "stdout",
     "output_type": "stream",
     "text": [
      "['India', 'Australia', 'England', 'Sri Lanka', 80, 46, 35, 36, 58]\n"
     ]
    }
   ],
   "source": [
    "# Addition of two lists\n",
    "list1=['India','Australia','England','Sri Lanka']\n",
    "list2=[80,46,35,36,58]\n",
    "\n",
    "print(list1+list2)"
   ]
  },
  {
   "cell_type": "code",
   "execution_count": 31,
   "id": "Hneol4sWDF1_",
   "metadata": {
    "id": "Hneol4sWDF1_",
    "outputId": "669247ad-5e73-4820-d568-1f0488e5d6ba"
   },
   "outputs": [
    {
     "name": "stdout",
     "output_type": "stream",
     "text": [
      "['India', 'Australia', 'Sri Lanka']\n"
     ]
    }
   ],
   "source": [
    "# to delete one perticular element from the list\n",
    "list1=['India','Australia','England','Sri Lanka']\n",
    "list1.remove('England')\n",
    "print(list1)"
   ]
  },
  {
   "cell_type": "code",
   "execution_count": 32,
   "id": "aYEf2TFLDF1_",
   "metadata": {
    "id": "aYEf2TFLDF1_",
    "outputId": "3dd31f58-74bf-42fd-d433-522a2f331157"
   },
   "outputs": [
    {
     "name": "stdout",
     "output_type": "stream",
     "text": [
      "['India', 'Australia', 'Sri Lanka']\n"
     ]
    }
   ],
   "source": [
    "# to delete element of perticular index\n",
    "list1=['India','Australia','England','Sri Lanka']\n",
    "list1.pop(2)\n",
    "print(list1)"
   ]
  },
  {
   "cell_type": "code",
   "execution_count": 33,
   "id": "d7QWspJ-DF1_",
   "metadata": {
    "id": "d7QWspJ-DF1_",
    "outputId": "58dc34ca-ae4c-4f8d-a066-821e3746a4b7"
   },
   "outputs": [
    {
     "name": "stdout",
     "output_type": "stream",
     "text": [
      "2\n"
     ]
    }
   ],
   "source": [
    "# to count frequency of perticular element \n",
    "list5= [1,2,3,1,5,2,6,5]\n",
    "print(list5.count(1))"
   ]
  },
  {
   "cell_type": "code",
   "execution_count": 34,
   "id": "aEIqQTrDDF1_",
   "metadata": {
    "id": "aEIqQTrDDF1_",
    "outputId": "9fc386ff-a9b6-4562-e745-b998a456f80a"
   },
   "outputs": [
    {
     "name": "stdout",
     "output_type": "stream",
     "text": [
      "[1, 1, 2, 2, 3, 5, 5, 6]\n"
     ]
    }
   ],
   "source": [
    "# to sort list by ascending order\n",
    "list5= [1,2,3,1,5,2,6,5]\n",
    "list5.sort(reverse=False)\n",
    "print(list5)"
   ]
  },
  {
   "cell_type": "code",
   "execution_count": 35,
   "id": "3y8ipT86DF1_",
   "metadata": {
    "id": "3y8ipT86DF1_",
    "outputId": "b6f1a179-df15-42a0-8bfa-7a4b7a2d427e"
   },
   "outputs": [
    {
     "name": "stdout",
     "output_type": "stream",
     "text": [
      "[6, 5, 5, 3, 2, 2, 1, 1]\n"
     ]
    }
   ],
   "source": [
    "# to sort list by decending order\n",
    "list5= [1,2,3,1,5,2,6,5]\n",
    "list5.sort(reverse=True)\n",
    "print(list5)"
   ]
  },
  {
   "cell_type": "code",
   "execution_count": 36,
   "id": "zUACauqkDF1_",
   "metadata": {
    "id": "zUACauqkDF1_",
    "outputId": "ff52636f-4d89-4ee1-cb25-49bcf9fc7d9d"
   },
   "outputs": [
    {
     "name": "stdout",
     "output_type": "stream",
     "text": [
      "1\n"
     ]
    }
   ],
   "source": [
    "# To get minimum from list\n",
    "list5= [1,2,3,1,5,2,6,5]\n",
    "print(min(list5))"
   ]
  },
  {
   "cell_type": "code",
   "execution_count": 37,
   "id": "onECxdLgDF1_",
   "metadata": {
    "id": "onECxdLgDF1_",
    "outputId": "59bea674-2d0e-4b22-ebf5-18f815cc57d5"
   },
   "outputs": [
    {
     "name": "stdout",
     "output_type": "stream",
     "text": [
      "6\n"
     ]
    }
   ],
   "source": [
    "# To get maximum from list\n",
    "list5= [1,2,3,1,5,2,6,5]\n",
    "print(max(list5))"
   ]
  },
  {
   "cell_type": "markdown",
   "id": "G5j-gF7zDF1_",
   "metadata": {
    "id": "G5j-gF7zDF1_"
   },
   "source": [
    "\n",
    "## 2.Tuple"
   ]
  },
  {
   "cell_type": "markdown",
   "id": "R-KPLk47DF2A",
   "metadata": {
    "id": "R-KPLk47DF2A"
   },
   "source": [
    "- Tuple is similar to List except that the objects in tuple are immutable which means we cannot change the elements of a tuple once assigned.\n",
    "- It is immutable i.e. not changable means we can't delete or update elements/items of it.\n",
    "- When we do not want to change the data over time, tuple is a preferred data type.\n",
    "- Iterating over the elements of a tuple is faster compared to iterating over a list."
   ]
  },
  {
   "cell_type": "markdown",
   "id": "-7_7blbBDF2A",
   "metadata": {
    "id": "-7_7blbBDF2A"
   },
   "source": [
    "#### 2.1 tuple of strings"
   ]
  },
  {
   "cell_type": "code",
   "execution_count": 38,
   "id": "b39d2c4b",
   "metadata": {},
   "outputs": [],
   "source": [
    "tup1 = () # Empty tuple"
   ]
  },
  {
   "cell_type": "code",
   "execution_count": 39,
   "id": "hYvSQ0gbDF2A",
   "metadata": {
    "id": "hYvSQ0gbDF2A",
    "outputId": "d01ddb87-7f75-4572-ec8a-62f222ceb402"
   },
   "outputs": [
    {
     "data": {
      "text/plain": [
       "('python', 'data science', 'nlp')"
      ]
     },
     "execution_count": 39,
     "metadata": {},
     "output_type": "execute_result"
    }
   ],
   "source": [
    "# using single  Quotation mark\n",
    "tuple1=('python','data science','nlp')\n",
    "tuple1"
   ]
  },
  {
   "cell_type": "code",
   "execution_count": 40,
   "id": "TUe7fiE7DF2A",
   "metadata": {
    "id": "TUe7fiE7DF2A",
    "outputId": "7829aa61-8151-4f20-bd8e-7bb15ad88c16"
   },
   "outputs": [
    {
     "data": {
      "text/plain": [
       "tuple"
      ]
     },
     "execution_count": 40,
     "metadata": {},
     "output_type": "execute_result"
    }
   ],
   "source": [
    "type(tuple1)"
   ]
  },
  {
   "cell_type": "markdown",
   "id": "398NBOeEDF2A",
   "metadata": {
    "id": "398NBOeEDF2A"
   },
   "source": [
    "#### 2.2 tuple of numbers "
   ]
  },
  {
   "cell_type": "code",
   "execution_count": 41,
   "id": "7vMSpyNLDF2A",
   "metadata": {
    "id": "7vMSpyNLDF2A",
    "outputId": "57e37eb7-0fe3-42f5-9576-2c0ec90f8dec"
   },
   "outputs": [
    {
     "data": {
      "text/plain": [
       "(1, 3, 7, 10)"
      ]
     },
     "execution_count": 41,
     "metadata": {},
     "output_type": "execute_result"
    }
   ],
   "source": [
    "# tuple of integer numbers\n",
    "tuple2=(1,3,7,10)\n",
    "tuple2"
   ]
  },
  {
   "cell_type": "code",
   "execution_count": 42,
   "id": "HXSCIxmjDF2A",
   "metadata": {
    "id": "HXSCIxmjDF2A",
    "outputId": "818d7c2f-f31c-4254-bf97-674cf426bcfb"
   },
   "outputs": [
    {
     "data": {
      "text/plain": [
       "tuple"
      ]
     },
     "execution_count": 42,
     "metadata": {},
     "output_type": "execute_result"
    }
   ],
   "source": [
    "type(tuple2)"
   ]
  },
  {
   "cell_type": "code",
   "execution_count": 43,
   "id": "0Tsx39cxDF2B",
   "metadata": {
    "id": "0Tsx39cxDF2B",
    "outputId": "b315975a-7c99-49bb-891c-8fc328358bb9"
   },
   "outputs": [
    {
     "data": {
      "text/plain": [
       "(5.5, 7.7, 9.9)"
      ]
     },
     "execution_count": 43,
     "metadata": {},
     "output_type": "execute_result"
    }
   ],
   "source": [
    "# tuple of float numbers \n",
    "tuple1 = (5.5,7.7,9.9)\n",
    "tuple1"
   ]
  },
  {
   "cell_type": "code",
   "execution_count": 44,
   "id": "IJoU3CRQDF2B",
   "metadata": {
    "id": "IJoU3CRQDF2B",
    "outputId": "d6f18a51-82bc-4730-942c-311751e136ab"
   },
   "outputs": [
    {
     "data": {
      "text/plain": [
       "tuple"
      ]
     },
     "execution_count": 44,
     "metadata": {},
     "output_type": "execute_result"
    }
   ],
   "source": [
    "type(tuple1)"
   ]
  },
  {
   "cell_type": "code",
   "execution_count": 45,
   "id": "PYdAo6uNDF2B",
   "metadata": {
    "id": "PYdAo6uNDF2B",
    "outputId": "a64cb32c-69fa-4389-9ad0-8b4c531ec0bd"
   },
   "outputs": [
    {
     "name": "stdout",
     "output_type": "stream",
     "text": [
      "(1, 2, 3.3, 4.4) <class 'tuple'>\n"
     ]
    }
   ],
   "source": [
    "# tuple of both integer and float numbers \n",
    "tuple3 =(1,2,3.3,4.4)\n",
    "print(tuple3,type(tuple3))"
   ]
  },
  {
   "cell_type": "markdown",
   "id": "0gJQnHeVDF2B",
   "metadata": {
    "id": "0gJQnHeVDF2B"
   },
   "source": [
    "#### 2.3 tuple of strings and numbers"
   ]
  },
  {
   "cell_type": "code",
   "execution_count": 46,
   "id": "woc0FfM7DF2C",
   "metadata": {
    "id": "woc0FfM7DF2C",
    "outputId": "94df86ee-0000-4e08-cd75-4303a2552ab4"
   },
   "outputs": [
    {
     "data": {
      "text/plain": [
       "('marks', 50.57, 43, 'grade')"
      ]
     },
     "execution_count": 46,
     "metadata": {},
     "output_type": "execute_result"
    }
   ],
   "source": [
    "#tuple of strings float numbers \n",
    "tuple3=('marks',50.57,43,'grade')\n",
    "tuple3"
   ]
  },
  {
   "cell_type": "code",
   "execution_count": 47,
   "id": "sZWtW8xVDF2C",
   "metadata": {
    "id": "sZWtW8xVDF2C",
    "outputId": "430f7226-f24a-4e3f-84db-631ac87e6e8d"
   },
   "outputs": [
    {
     "data": {
      "text/plain": [
       "tuple"
      ]
     },
     "execution_count": 47,
     "metadata": {},
     "output_type": "execute_result"
    }
   ],
   "source": [
    "type(tuple3)"
   ]
  },
  {
   "cell_type": "markdown",
   "id": "7nIaXSbBDF2C",
   "metadata": {
    "id": "7nIaXSbBDF2C"
   },
   "source": [
    "#### 2.4 Indexing and Slicing "
   ]
  },
  {
   "cell_type": "code",
   "execution_count": 48,
   "id": "tmcxxIcwDF2C",
   "metadata": {
    "id": "tmcxxIcwDF2C",
    "outputId": "f4142feb-2bf6-4953-8860-698adc4d374f"
   },
   "outputs": [
    {
     "data": {
      "text/plain": [
       "'n'"
      ]
     },
     "execution_count": 48,
     "metadata": {},
     "output_type": "execute_result"
    }
   ],
   "source": [
    "# indexing\n",
    "# extract element index wise\n",
    "tuple4=('a','n','k','d','v')\n",
    "tuple4[1]"
   ]
  },
  {
   "cell_type": "code",
   "execution_count": 49,
   "id": "zL_BznWZDF2C",
   "metadata": {
    "id": "zL_BznWZDF2C",
    "outputId": "229d66c0-e89e-47d9-e95a-895c59df4c3c"
   },
   "outputs": [
    {
     "data": {
      "text/plain": [
       "('n', 'k', 'd')"
      ]
     },
     "execution_count": 49,
     "metadata": {},
     "output_type": "execute_result"
    }
   ],
   "source": [
    "# slicing\n",
    "# extract elements from index position 1 to 3 \n",
    "tuple4=('a','n','k','d','v')\n",
    "tuple4[1:4]"
   ]
  },
  {
   "cell_type": "code",
   "execution_count": 50,
   "id": "aO6pII8VDF2C",
   "metadata": {
    "id": "aO6pII8VDF2C",
    "outputId": "963092a6-8bee-420a-ca7f-af3fb4711b79"
   },
   "outputs": [
    {
     "data": {
      "text/plain": [
       "3"
      ]
     },
     "execution_count": 50,
     "metadata": {},
     "output_type": "execute_result"
    }
   ],
   "source": [
    "# get index of particular item\n",
    "tuple4=('a','n','k','d','v','a','r','a')\n",
    "tuple4.index('d')"
   ]
  },
  {
   "cell_type": "code",
   "execution_count": 51,
   "id": "Oy4pA4L_DF2D",
   "metadata": {
    "id": "Oy4pA4L_DF2D",
    "outputId": "42a0e766-03b7-4186-d38e-5ec0caca982a"
   },
   "outputs": [
    {
     "data": {
      "text/plain": [
       "0"
      ]
     },
     "execution_count": 51,
     "metadata": {},
     "output_type": "execute_result"
    }
   ],
   "source": [
    "# here item 'a' is repeated 3 times but while getting it's index position we get position of first 'a' only \n",
    "tuple4=('a','n','k','d','v','a','r','a')\n",
    "tuple4.index('a')"
   ]
  },
  {
   "cell_type": "code",
   "execution_count": 52,
   "id": "4720b49c",
   "metadata": {},
   "outputs": [
    {
     "data": {
      "text/plain": [
       "0"
      ]
     },
     "execution_count": 52,
     "metadata": {},
     "output_type": "execute_result"
    }
   ],
   "source": [
    "list4=['a','n','k','d','v','a','r','a']\n",
    "list4.index('a')"
   ]
  },
  {
   "cell_type": "code",
   "execution_count": 53,
   "id": "87887fb3",
   "metadata": {},
   "outputs": [
    {
     "data": {
      "text/plain": [
       "['a',\n",
       " 'n',\n",
       " 'k',\n",
       " 'd',\n",
       " 'v',\n",
       " 'a',\n",
       " 'r',\n",
       " 'a',\n",
       " 'a',\n",
       " 'n',\n",
       " 'k',\n",
       " 'd',\n",
       " 'v',\n",
       " 'a',\n",
       " 'r',\n",
       " 'a']"
      ]
     },
     "execution_count": 53,
     "metadata": {},
     "output_type": "execute_result"
    }
   ],
   "source": [
    "list4*2"
   ]
  },
  {
   "cell_type": "markdown",
   "id": "igx7_28mDF2D",
   "metadata": {
    "id": "igx7_28mDF2D"
   },
   "source": [
    "#### 2.5 Operations on tuple"
   ]
  },
  {
   "cell_type": "markdown",
   "id": "pLBgsy_pDF2D",
   "metadata": {
    "id": "pLBgsy_pDF2D"
   },
   "source": [
    "We can do few operations on tuple as they are imutable."
   ]
  },
  {
   "cell_type": "code",
   "execution_count": 54,
   "id": "vhEl-oQQDF2D",
   "metadata": {
    "id": "vhEl-oQQDF2D",
    "outputId": "b452f1f1-10ab-4a88-a40e-7412abb30628"
   },
   "outputs": [
    {
     "data": {
      "text/plain": [
       "5"
      ]
     },
     "execution_count": 54,
     "metadata": {},
     "output_type": "execute_result"
    }
   ],
   "source": [
    "# to get number of elements in tuple \n",
    "tuple4=('a','n','k','d','v')\n",
    "len(tuple4)"
   ]
  },
  {
   "cell_type": "code",
   "execution_count": 55,
   "id": "4MyywOa5DF2D",
   "metadata": {
    "id": "4MyywOa5DF2D",
    "outputId": "cb16876e-1d5c-47bb-b3af-8050c2af2f06"
   },
   "outputs": [
    {
     "data": {
      "text/plain": [
       "('a', 'n', 'k', 'd', 'v', 'a', 'n', 'k', 'd', 'v')"
      ]
     },
     "execution_count": 55,
     "metadata": {},
     "output_type": "execute_result"
    }
   ],
   "source": [
    "# we can duble tuple by multiple by 2 \n",
    "tuple4*2"
   ]
  },
  {
   "cell_type": "code",
   "execution_count": 56,
   "id": "OtV7qxkWDF2D",
   "metadata": {
    "id": "OtV7qxkWDF2D",
    "outputId": "8dfe5698-fe7c-464c-e0c0-14afc3b97425"
   },
   "outputs": [
    {
     "data": {
      "text/plain": [
       "3"
      ]
     },
     "execution_count": 56,
     "metadata": {},
     "output_type": "execute_result"
    }
   ],
   "source": [
    "# to count how many time particular item replicated\n",
    "tuple4=('a','n','k','d','v','a','r','a')\n",
    "tuple4.count('a')"
   ]
  },
  {
   "cell_type": "code",
   "execution_count": 57,
   "id": "y6gtoJmXDF2D",
   "metadata": {
    "id": "y6gtoJmXDF2D",
    "outputId": "b516ccca-322c-4732-dbdf-f2b0add85f26"
   },
   "outputs": [
    {
     "name": "stdout",
     "output_type": "stream",
     "text": [
      "('python', 'data science', 'nlp', 1, 3, 7, 10)\n",
      "<class 'tuple'>\n"
     ]
    }
   ],
   "source": [
    "# addition of tuples\n",
    "tuple1=('python','data science','nlp')\n",
    "tuple2=(1,3,7,10)\n",
    "print(tuple1+tuple2)\n",
    "print(type(tuple1+tuple2))"
   ]
  },
  {
   "cell_type": "code",
   "execution_count": 58,
   "id": "LPUXpMDwDF2D",
   "metadata": {
    "id": "LPUXpMDwDF2D",
    "outputId": "3e5042ae-4d08-42a4-8937-2e183e0ee2ee",
    "scrolled": false
   },
   "outputs": [
    {
     "ename": "AttributeError",
     "evalue": "'tuple' object has no attribute 'append'",
     "output_type": "error",
     "traceback": [
      "\u001b[1;31m---------------------------------------------------------------------------\u001b[0m",
      "\u001b[1;31mAttributeError\u001b[0m                            Traceback (most recent call last)",
      "Input \u001b[1;32mIn [58]\u001b[0m, in \u001b[0;36m<cell line: 3>\u001b[1;34m()\u001b[0m\n\u001b[0;32m      1\u001b[0m \u001b[38;5;66;03m# we won't be able to add new variables\u001b[39;00m\n\u001b[0;32m      2\u001b[0m tuple4\u001b[38;5;241m=\u001b[39m(\u001b[38;5;124m'\u001b[39m\u001b[38;5;124ma\u001b[39m\u001b[38;5;124m'\u001b[39m,\u001b[38;5;124m'\u001b[39m\u001b[38;5;124mn\u001b[39m\u001b[38;5;124m'\u001b[39m,\u001b[38;5;124m'\u001b[39m\u001b[38;5;124mk\u001b[39m\u001b[38;5;124m'\u001b[39m,\u001b[38;5;124m'\u001b[39m\u001b[38;5;124md\u001b[39m\u001b[38;5;124m'\u001b[39m,\u001b[38;5;124m'\u001b[39m\u001b[38;5;124mv\u001b[39m\u001b[38;5;124m'\u001b[39m)\n\u001b[1;32m----> 3\u001b[0m \u001b[43mtuple4\u001b[49m\u001b[38;5;241;43m.\u001b[39;49m\u001b[43mappend\u001b[49m(h)\n\u001b[0;32m      4\u001b[0m tuple4\n",
      "\u001b[1;31mAttributeError\u001b[0m: 'tuple' object has no attribute 'append'"
     ]
    }
   ],
   "source": [
    "# we won't be able to add new variables\n",
    "tuple4=('a','n','k','d','v')\n",
    "tuple4.append(h)\n",
    "tuple4"
   ]
  },
  {
   "cell_type": "markdown",
   "id": "oiYnFhfHDF2D",
   "metadata": {
    "id": "oiYnFhfHDF2D"
   },
   "source": [
    "Addition and removal of element in tuple is not allowed thats why it works fast than list"
   ]
  },
  {
   "cell_type": "code",
   "execution_count": 59,
   "id": "vuqnavlFDF2D",
   "metadata": {
    "id": "vuqnavlFDF2D",
    "outputId": "f7d583da-2af7-4ee2-ac92-6d888483bb64"
   },
   "outputs": [
    {
     "ename": "TypeError",
     "evalue": "'tuple' object does not support item assignment",
     "output_type": "error",
     "traceback": [
      "\u001b[1;31m---------------------------------------------------------------------------\u001b[0m",
      "\u001b[1;31mTypeError\u001b[0m                                 Traceback (most recent call last)",
      "Input \u001b[1;32mIn [59]\u001b[0m, in \u001b[0;36m<cell line: 3>\u001b[1;34m()\u001b[0m\n\u001b[0;32m      1\u001b[0m \u001b[38;5;66;03m# replacement of one element\u001b[39;00m\n\u001b[0;32m      2\u001b[0m tuple4\u001b[38;5;241m=\u001b[39m(\u001b[38;5;124m'\u001b[39m\u001b[38;5;124ma\u001b[39m\u001b[38;5;124m'\u001b[39m,\u001b[38;5;124m'\u001b[39m\u001b[38;5;124mn\u001b[39m\u001b[38;5;124m'\u001b[39m,\u001b[38;5;124m'\u001b[39m\u001b[38;5;124mk\u001b[39m\u001b[38;5;124m'\u001b[39m,\u001b[38;5;124m'\u001b[39m\u001b[38;5;124md\u001b[39m\u001b[38;5;124m'\u001b[39m,\u001b[38;5;124m'\u001b[39m\u001b[38;5;124mv\u001b[39m\u001b[38;5;124m'\u001b[39m)\n\u001b[1;32m----> 3\u001b[0m tuple4[\u001b[38;5;241m4\u001b[39m]\u001b[38;5;241m=\u001b[39m\u001b[38;5;124m'\u001b[39m\u001b[38;5;124mh\u001b[39m\u001b[38;5;124m'\u001b[39m\n\u001b[0;32m      4\u001b[0m tuple4\n",
      "\u001b[1;31mTypeError\u001b[0m: 'tuple' object does not support item assignment"
     ]
    }
   ],
   "source": [
    "# replacement of one element\n",
    "tuple4=('a','n','k','d','v')\n",
    "tuple4[4]='h'\n",
    "tuple4"
   ]
  },
  {
   "cell_type": "code",
   "execution_count": 60,
   "id": "f65ee163",
   "metadata": {},
   "outputs": [
    {
     "data": {
      "text/plain": [
       "[6, 12, 43, 67, 67, 90, 99]"
      ]
     },
     "execution_count": 60,
     "metadata": {},
     "output_type": "execute_result"
    }
   ],
   "source": [
    "mytuple2 = (43,67,99,12,6,90,67)\n",
    "sorted(mytuple2) # Returns a new sorted list and doesn't change original tuple"
   ]
  },
  {
   "cell_type": "code",
   "execution_count": 61,
   "id": "180e11ba",
   "metadata": {},
   "outputs": [
    {
     "data": {
      "text/plain": [
       "[99, 90, 67, 67, 43, 12, 6]"
      ]
     },
     "execution_count": 61,
     "metadata": {},
     "output_type": "execute_result"
    }
   ],
   "source": [
    "sorted(mytuple2, reverse=True) # Sort in descending order"
   ]
  },
  {
   "cell_type": "markdown",
   "id": "1cr4AbBuDF2E",
   "metadata": {
    "id": "1cr4AbBuDF2E"
   },
   "source": [
    "## 3. Set"
   ]
  },
  {
   "cell_type": "markdown",
   "id": "RubrcewBDF2E",
   "metadata": {
    "id": "RubrcewBDF2E"
   },
   "source": [
    "- Only unique values are stored in set\n",
    "- Unordered & Unindexed collection of items.\n",
    "- Set does not support slicing\n",
    "- It gives output in ascending order\n",
    "- Set elements are immutable (cannot be changed)."
   ]
  },
  {
   "cell_type": "markdown",
   "id": "weSeSzhGDF2E",
   "metadata": {
    "id": "weSeSzhGDF2E"
   },
   "source": [
    "#### 3.1 Different types of set "
   ]
  },
  {
   "cell_type": "code",
   "execution_count": 62,
   "id": "CinsdJHZDF2E",
   "metadata": {
    "id": "CinsdJHZDF2E",
    "outputId": "fad5af96-3491-4852-c62d-b1a9d86648d0"
   },
   "outputs": [
    {
     "data": {
      "text/plain": [
       "set"
      ]
     },
     "execution_count": 62,
     "metadata": {},
     "output_type": "execute_result"
    }
   ],
   "source": [
    "# set of numbers\n",
    "set1={1,2,4,5}\n",
    "type(set1)"
   ]
  },
  {
   "cell_type": "code",
   "execution_count": 63,
   "id": "pjGUxsuzDF2E",
   "metadata": {
    "id": "pjGUxsuzDF2E",
    "outputId": "a91aee51-6d6c-4e77-d3f5-a13d21dfb9dc"
   },
   "outputs": [
    {
     "data": {
      "text/plain": [
       "set"
      ]
     },
     "execution_count": 63,
     "metadata": {},
     "output_type": "execute_result"
    }
   ],
   "source": [
    "# set of strings \n",
    "set2={'banana','apple','fruit'}\n",
    "type(set2)"
   ]
  },
  {
   "cell_type": "code",
   "execution_count": 64,
   "id": "usDDUmcvDF2E",
   "metadata": {
    "id": "usDDUmcvDF2E",
    "outputId": "d75335b2-571c-47a2-a3c4-e0fcf324a59e"
   },
   "outputs": [
    {
     "data": {
      "text/plain": [
       "set"
      ]
     },
     "execution_count": 64,
     "metadata": {},
     "output_type": "execute_result"
    }
   ],
   "source": [
    "# set of both numbers and string\n",
    "set3={1,'s','t',7}\n",
    "type(set3)"
   ]
  },
  {
   "cell_type": "code",
   "execution_count": 65,
   "id": "1ec14c7d",
   "metadata": {},
   "outputs": [
    {
     "data": {
      "text/plain": [
       "{(11, 22, 32), 10, 20, 'Hola'}"
      ]
     },
     "execution_count": 65,
     "metadata": {},
     "output_type": "execute_result"
    }
   ],
   "source": [
    "myset3 = {10,20, \"Hola\", (11, 22, 32)} # Mixed datatypes\n",
    "myset3"
   ]
  },
  {
   "cell_type": "code",
   "execution_count": 66,
   "id": "aa6956aa",
   "metadata": {},
   "outputs": [
    {
     "data": {
      "text/plain": [
       "{1, 2, 3, 4, 7}"
      ]
     },
     "execution_count": 66,
     "metadata": {},
     "output_type": "execute_result"
    }
   ],
   "source": [
    "myset4 = {1,2,1,2,1,3,4,7}\n",
    "myset4"
   ]
  },
  {
   "cell_type": "code",
   "execution_count": null,
   "id": "ea6ac49b",
   "metadata": {},
   "outputs": [],
   "source": []
  },
  {
   "cell_type": "markdown",
   "id": "GGGWunt3DF2E",
   "metadata": {
    "id": "GGGWunt3DF2E"
   },
   "source": [
    "#### 3.2 Operations on set"
   ]
  },
  {
   "cell_type": "code",
   "execution_count": 67,
   "id": "YF1qyad0DF2E",
   "metadata": {
    "id": "YF1qyad0DF2E",
    "outputId": "a79d27fb-54c2-44cc-d729-1322cf8cacab"
   },
   "outputs": [
    {
     "data": {
      "text/plain": [
       "{1, 3, 4, 6, 7, 8, 9}"
      ]
     },
     "execution_count": 67,
     "metadata": {},
     "output_type": "execute_result"
    }
   ],
   "source": [
    "# this will only print unique element from the set.\n",
    "# Duplicate elements are not allowed.\n",
    "set4={1,4,6,7,4,8,6,9,3}\n",
    "set4"
   ]
  },
  {
   "cell_type": "code",
   "execution_count": 68,
   "id": "drH2s1LhDF2E",
   "metadata": {
    "id": "drH2s1LhDF2E",
    "outputId": "c0022956-3709-42c7-90ab-66539748db26"
   },
   "outputs": [
    {
     "data": {
      "text/plain": [
       "{1, 3, 4, 6, 7, 8, 9, 10}"
      ]
     },
     "execution_count": 68,
     "metadata": {},
     "output_type": "execute_result"
    }
   ],
   "source": [
    "# to add one element in set\n",
    "set4={1,4,6,7,4,8,6,9,3}\n",
    "set4.add(10)\n",
    "set4"
   ]
  },
  {
   "cell_type": "code",
   "execution_count": 69,
   "id": "1bc3d3e6",
   "metadata": {},
   "outputs": [
    {
     "data": {
      "text/plain": [
       "{1, 3, 4, 6, 7, 8, 9}"
      ]
     },
     "execution_count": 69,
     "metadata": {},
     "output_type": "execute_result"
    }
   ],
   "source": [
    "set4={1,4,6,7,4,8,6,9,3}\n",
    "set4.add(9)\n",
    "set4"
   ]
  },
  {
   "cell_type": "code",
   "execution_count": 70,
   "id": "0mX9_9dbDF2E",
   "metadata": {
    "id": "0mX9_9dbDF2E",
    "outputId": "387457c7-c73e-43fb-d053-10c7ebc48017"
   },
   "outputs": [
    {
     "name": "stdout",
     "output_type": "stream",
     "text": [
      "{10}\n"
     ]
    },
    {
     "data": {
      "text/plain": [
       "{88}"
      ]
     },
     "execution_count": 70,
     "metadata": {},
     "output_type": "execute_result"
    }
   ],
   "source": [
    "# To calculte difference between two sets\n",
    "set4={1,4,6,7,4,8,6,9,3, 88}\n",
    "\n",
    "set5={1,4,6,7,4,8,6,9,3,10}\n",
    "\n",
    "print(set5.difference(set4)) # difference set5 over set4\n",
    "set4.difference(set5) # difference set4 over set5"
   ]
  },
  {
   "cell_type": "code",
   "execution_count": 71,
   "id": "rPdUceFeDF2F",
   "metadata": {
    "id": "rPdUceFeDF2F",
    "outputId": "7cee3a19-238a-4342-efba-8ec68fa9c9df"
   },
   "outputs": [
    {
     "data": {
      "text/plain": [
       "{1, 4, 6}"
      ]
     },
     "execution_count": 71,
     "metadata": {},
     "output_type": "execute_result"
    }
   ],
   "source": [
    "# To see intersection of two sets\n",
    "set4={1,4,6,7,4,8,6,9,3}\n",
    "set5={1,4,6,710}\n",
    "set5.intersection(set4)"
   ]
  },
  {
   "cell_type": "code",
   "execution_count": 72,
   "id": "12731795",
   "metadata": {},
   "outputs": [
    {
     "data": {
      "text/plain": [
       "{1, 2, 3, 4, 5, 6, 7, 8}"
      ]
     },
     "execution_count": 72,
     "metadata": {},
     "output_type": "execute_result"
    }
   ],
   "source": [
    "# union\n",
    "A = {1,2,3,4,5}\n",
    "B = {4,5,6,7,8}\n",
    "C = A | B # Union of A and B (All elements from both sets. NO DUPLICATES)\n",
    "C"
   ]
  },
  {
   "cell_type": "code",
   "execution_count": 73,
   "id": "9702d26f",
   "metadata": {},
   "outputs": [
    {
     "data": {
      "text/plain": [
       "{1, 2, 3, 4, 5, 6, 7, 8}"
      ]
     },
     "execution_count": 73,
     "metadata": {},
     "output_type": "execute_result"
    }
   ],
   "source": [
    "# alternative way of union\n",
    "A.union(B) # Union of A and B"
   ]
  },
  {
   "cell_type": "code",
   "execution_count": 74,
   "id": "QHoQlKkkDF2F",
   "metadata": {
    "id": "QHoQlKkkDF2F",
    "outputId": "3804ea0c-7ba0-4b22-cb85-821ed2c2eafe"
   },
   "outputs": [
    {
     "data": {
      "text/plain": [
       "7"
      ]
     },
     "execution_count": 74,
     "metadata": {},
     "output_type": "execute_result"
    }
   ],
   "source": [
    "# get number of unique elements in set \n",
    "set4={1,4,6,7,4,8,6,9,3}\n",
    "len(set4)"
   ]
  },
  {
   "cell_type": "code",
   "execution_count": null,
   "id": "8BJl3pP-DF2F",
   "metadata": {
    "id": "8BJl3pP-DF2F",
    "outputId": "86796bb9-62b1-41a2-deb8-10f287ec3454",
    "scrolled": true
   },
   "outputs": [],
   "source": [
    "# Slicing of elements in set doesnot allowed \n",
    "set4={1,4,6,7,4,8,6,9,3}\n",
    "set4[1]"
   ]
  },
  {
   "cell_type": "code",
   "execution_count": 75,
   "id": "2Cv9gnm8DF2F",
   "metadata": {
    "id": "2Cv9gnm8DF2F",
    "outputId": "c3ccd637-945c-4cdd-ba19-133779ea1319"
   },
   "outputs": [
    {
     "data": {
      "text/plain": [
       "{4, 5, 6, 7, 8, 9}"
      ]
     },
     "execution_count": 75,
     "metadata": {},
     "output_type": "execute_result"
    }
   ],
   "source": [
    "# Addition of two sets\n",
    "A = {4, 5, 6, 7}\n",
    "B = {6, 7, 8, 9}\n",
    "A |= B\n",
    "A"
   ]
  },
  {
   "cell_type": "code",
   "execution_count": 76,
   "id": "isQFovn1DF2F",
   "metadata": {
    "id": "isQFovn1DF2F",
    "outputId": "280ac899-43b1-413d-fa0c-03b3ebe58675"
   },
   "outputs": [
    {
     "data": {
      "text/plain": [
       "{4, 5, 7}"
      ]
     },
     "execution_count": 76,
     "metadata": {},
     "output_type": "execute_result"
    }
   ],
   "source": [
    "# To remove one element from set\n",
    "A = {4, 5, 6, 7}\n",
    "A.remove(6)\n",
    "A"
   ]
  },
  {
   "cell_type": "code",
   "execution_count": 77,
   "id": "_PORtVXVDF2F",
   "metadata": {
    "id": "_PORtVXVDF2F",
    "outputId": "3db99485-f487-4c2f-be65-6c0946f588d9"
   },
   "outputs": [
    {
     "data": {
      "text/plain": [
       "{4, 5, 6, 7, 15}"
      ]
     },
     "execution_count": 77,
     "metadata": {},
     "output_type": "execute_result"
    }
   ],
   "source": [
    "# To add one element from set\n",
    "A = {4, 5, 6, 7}\n",
    "A.add(15)\n",
    "A"
   ]
  },
  {
   "cell_type": "code",
   "execution_count": 78,
   "id": "4f9be8d5",
   "metadata": {},
   "outputs": [
    {
     "name": "stdout",
     "output_type": "stream",
     "text": [
      "37\n",
      "15\n",
      "4\n"
     ]
    }
   ],
   "source": [
    "# built-in functions\n",
    "print(sum(A))\n",
    "print(max(A))\n",
    "print(min(A))"
   ]
  },
  {
   "cell_type": "markdown",
   "id": "MUrSGpjDDF2F",
   "metadata": {
    "id": "MUrSGpjDDF2F"
   },
   "source": [
    "## 4.Dictionary"
   ]
  },
  {
   "attachments": {
    "dict.PNG": {
     "image/png": "[encoded data removed]"
    }
   },
   "cell_type": "markdown",
   "id": "7sap9W6wDF2F",
   "metadata": {
    "id": "7sap9W6wDF2F"
   },
   "source": [
    "- Collection of unordered, changable and indexed item is Dictionary.\n",
    "- Dictionary have Keys and value pair.\n",
    "- A python dictionary is a collection of key and value pairs separated by a colon (:) & enclosed in curly braces {}.\n",
    "- All pairs must be unique i.e. if we access key we will get value corresponding to it .\n",
    "\n",
    "![dict.PNG](attachment:dict.PNG)"
   ]
  },
  {
   "cell_type": "markdown",
   "id": "xNwQu_L6DF2F",
   "metadata": {
    "id": "xNwQu_L6DF2F"
   },
   "source": [
    "#### 4.1 Different types of dictionary "
   ]
  },
  {
   "cell_type": "code",
   "execution_count": 79,
   "id": "NsqHeSUzDF2F",
   "metadata": {
    "id": "NsqHeSUzDF2F",
    "outputId": "0b3faa22-3253-46bd-e28d-90fb478c8ea4"
   },
   "outputs": [
    {
     "data": {
      "text/plain": [
       "{1: 'red', 2: 'yellow'}"
      ]
     },
     "execution_count": 79,
     "metadata": {},
     "output_type": "execute_result"
    }
   ],
   "source": [
    "# dictionary with numbers keys\n",
    "# here 1 & 2 are keys and red and yellow are their respective values.\n",
    "dictionary1= {1:'red', 2:\"yellow\"}  #['red', 'yellow']\n",
    "dictionary1"
   ]
  },
  {
   "cell_type": "code",
   "execution_count": 80,
   "id": "97bfbcc9",
   "metadata": {},
   "outputs": [
    {
     "data": {
      "text/plain": [
       "{1.4: 'red', 2.5: 'yellow'}"
      ]
     },
     "execution_count": 80,
     "metadata": {},
     "output_type": "execute_result"
    }
   ],
   "source": [
    "dictionary1={1.4:'red', 2.5:\"yellow\"}\n",
    "dictionary1"
   ]
  },
  {
   "cell_type": "code",
   "execution_count": 81,
   "id": "JAevH2XhDF2G",
   "metadata": {
    "id": "JAevH2XhDF2G",
    "outputId": "43e38db3-9e11-46f2-91b6-9c084562653b"
   },
   "outputs": [
    {
     "data": {
      "text/plain": [
       "dict"
      ]
     },
     "execution_count": 81,
     "metadata": {},
     "output_type": "execute_result"
    }
   ],
   "source": [
    "type(dictionary1)"
   ]
  },
  {
   "cell_type": "code",
   "execution_count": 82,
   "id": "W4IUPRehDF2G",
   "metadata": {
    "id": "W4IUPRehDF2G",
    "outputId": "239f6df8-6b78-4121-ede1-25fc3e581d13"
   },
   "outputs": [
    {
     "data": {
      "text/plain": [
       "{'red': 1, 'yellow': 2}"
      ]
     },
     "execution_count": 82,
     "metadata": {},
     "output_type": "execute_result"
    }
   ],
   "source": [
    "# dictionary with character keys\n",
    "# we can also reverse the role of key and it's value \n",
    "dictionary2 = {'red':1 , 'yellow':2}\n",
    "dictionary2"
   ]
  },
  {
   "cell_type": "code",
   "execution_count": 83,
   "id": "by5OivGZDF2G",
   "metadata": {
    "id": "by5OivGZDF2G",
    "outputId": "3fb219b4-5c8e-483a-b0b6-e12fb7d98918"
   },
   "outputs": [
    {
     "data": {
      "text/plain": [
       "dict"
      ]
     },
     "execution_count": 83,
     "metadata": {},
     "output_type": "execute_result"
    }
   ],
   "source": [
    "type(dictionary2)"
   ]
  },
  {
   "cell_type": "code",
   "execution_count": 84,
   "id": "QWG4HuNzDF2G",
   "metadata": {
    "id": "QWG4HuNzDF2G",
    "outputId": "d008e53a-a6ec-4427-c4df-ce78461c54da"
   },
   "outputs": [
    {
     "data": {
      "text/plain": [
       "{1: 5, 2: 6}"
      ]
     },
     "execution_count": 84,
     "metadata": {},
     "output_type": "execute_result"
    }
   ],
   "source": [
    "# we can set numbers as both and keys and values \n",
    "dictionary1={1:5, 2:6}\n",
    "dictionary1"
   ]
  },
  {
   "cell_type": "code",
   "execution_count": 85,
   "id": "vDXxhCeBDF2G",
   "metadata": {
    "id": "vDXxhCeBDF2G",
    "outputId": "ec5191f9-203b-417b-b831-e22e162cd40e"
   },
   "outputs": [
    {
     "data": {
      "text/plain": [
       "{'Apple': 'Red', 'Banana': 'Yellow', 'Grapes': 'Green'}"
      ]
     },
     "execution_count": 85,
     "metadata": {},
     "output_type": "execute_result"
    }
   ],
   "source": [
    "# we can set strings as both and keys and values \n",
    "colors = {'Apple':'Red','Banana':'Yellow','Grapes':'Green'}\n",
    "colors"
   ]
  },
  {
   "cell_type": "code",
   "execution_count": 86,
   "id": "c9c927a2",
   "metadata": {},
   "outputs": [
    {
     "data": {
      "text/plain": [
       "{'Red': 'Apple', 'Green': 'Grapes'}"
      ]
     },
     "execution_count": 86,
     "metadata": {},
     "output_type": "execute_result"
    }
   ],
   "source": [
    "fruits = {'Red':'Apple','Green':'Grapes'}\n",
    "fruits"
   ]
  },
  {
   "cell_type": "markdown",
   "id": "JsTDUa6iDF2G",
   "metadata": {
    "id": "JsTDUa6iDF2G"
   },
   "source": [
    "#### 4.2 Operations on dictionary"
   ]
  },
  {
   "cell_type": "code",
   "execution_count": 87,
   "id": "6_2A_JkfDF2G",
   "metadata": {
    "id": "6_2A_JkfDF2G",
    "outputId": "f1fb584f-0b69-4a99-ab48-5205d643f5dd"
   },
   "outputs": [
    {
     "data": {
      "text/plain": [
       "2"
      ]
     },
     "execution_count": 87,
     "metadata": {},
     "output_type": "execute_result"
    }
   ],
   "source": [
    "# it gives len of dictionary\n",
    "dictionary1={1:'red',2:\"yellow\"}\n",
    "len(dictionary1)"
   ]
  },
  {
   "cell_type": "code",
   "execution_count": 88,
   "id": "24e5b7b1",
   "metadata": {},
   "outputs": [],
   "source": [
    "mydict = 'colors'"
   ]
  },
  {
   "cell_type": "code",
   "execution_count": null,
   "id": "31a9ea34",
   "metadata": {},
   "outputs": [],
   "source": [
    "mydict.keys() # Return Dictionary Keys using keys() method"
   ]
  },
  {
   "cell_type": "code",
   "execution_count": null,
   "id": "7bc5fab1",
   "metadata": {},
   "outputs": [],
   "source": [
    "mydict.values() # Return Dictionary Values using values() method"
   ]
  },
  {
   "cell_type": "code",
   "execution_count": 93,
   "id": "u6hzkBMHDF2G",
   "metadata": {
    "id": "u6hzkBMHDF2G",
    "outputId": "9a815033-a97d-4a0f-882f-88a9a2a99f26"
   },
   "outputs": [
    {
     "data": {
      "text/plain": [
       "{1: 'red', 2: 'yellow', 3: 'pink'}"
      ]
     },
     "execution_count": 93,
     "metadata": {},
     "output_type": "execute_result"
    }
   ],
   "source": [
    "# we can add elements in dictionary\n",
    "dictionary1={1:'red',2:\"yellow\"}\n",
    "\n",
    "dictionary1[3]='pink'\n",
    "\n",
    "dictionary1"
   ]
  },
  {
   "cell_type": "code",
   "execution_count": 94,
   "id": "9ff482fe",
   "metadata": {},
   "outputs": [
    {
     "data": {
      "text/plain": [
       "{1: 'red', 2: 'yellow', 3: 'pink', 4: 'black'}"
      ]
     },
     "execution_count": 94,
     "metadata": {},
     "output_type": "execute_result"
    }
   ],
   "source": [
    "dict1 = {4:'black'}\n",
    "dictionary1.update(dict1)\n",
    "dictionary1"
   ]
  },
  {
   "cell_type": "code",
   "execution_count": 95,
   "id": "ee5d268a",
   "metadata": {},
   "outputs": [
    {
     "data": {
      "text/plain": [
       "{1: 'one', 'A': 'two', 3: 'three'}"
      ]
     },
     "execution_count": 95,
     "metadata": {},
     "output_type": "execute_result"
    }
   ],
   "source": [
    "mydict = {1:'one' , 'A':'two' , 3:'three'} # dictionary with mixed keys(data types)\n",
    "mydict"
   ]
  },
  {
   "cell_type": "code",
   "execution_count": 96,
   "id": "KG-Bzi2FDF2H",
   "metadata": {
    "id": "KG-Bzi2FDF2H",
    "outputId": "5d8d0e18-e7c9-48ec-ac40-4adc721eb869"
   },
   "outputs": [
    {
     "data": {
      "text/plain": [
       "{1: 'red'}"
      ]
     },
     "execution_count": 96,
     "metadata": {},
     "output_type": "execute_result"
    }
   ],
   "source": [
    "# we can remove key of dict using del function\n",
    "dictionary1={1:'red',2:\"yellow\"}\n",
    "del dictionary1[2]\n",
    "dictionary1"
   ]
  },
  {
   "cell_type": "code",
   "execution_count": 97,
   "id": "fJMfvbjFDF2H",
   "metadata": {
    "id": "fJMfvbjFDF2H",
    "outputId": "1cccf1e5-6985-4157-ca8c-46782c2b1a9d"
   },
   "outputs": [
    {
     "ename": "TypeError",
     "evalue": "unsupported operand type(s) for +: 'dict' and 'dict'",
     "output_type": "error",
     "traceback": [
      "\u001b[1;31m---------------------------------------------------------------------------\u001b[0m",
      "\u001b[1;31mTypeError\u001b[0m                                 Traceback (most recent call last)",
      "Input \u001b[1;32mIn [97]\u001b[0m, in \u001b[0;36m<cell line: 5>\u001b[1;34m()\u001b[0m\n\u001b[0;32m      2\u001b[0m dictionary1\u001b[38;5;241m=\u001b[39m{\u001b[38;5;241m1\u001b[39m:\u001b[38;5;124m'\u001b[39m\u001b[38;5;124mred\u001b[39m\u001b[38;5;124m'\u001b[39m,\u001b[38;5;241m2\u001b[39m:\u001b[38;5;124m\"\u001b[39m\u001b[38;5;124myellow\u001b[39m\u001b[38;5;124m\"\u001b[39m}\n\u001b[0;32m      3\u001b[0m dictionary5\u001b[38;5;241m=\u001b[39m{\u001b[38;5;241m1\u001b[39m:\u001b[38;5;124m'\u001b[39m\u001b[38;5;124mred\u001b[39m\u001b[38;5;124m'\u001b[39m,\u001b[38;5;241m2\u001b[39m:\u001b[38;5;124m\"\u001b[39m\u001b[38;5;124myellow\u001b[39m\u001b[38;5;124m\"\u001b[39m,\u001b[38;5;241m3\u001b[39m:\u001b[38;5;124m'\u001b[39m\u001b[38;5;124mblue\u001b[39m\u001b[38;5;124m'\u001b[39m,\u001b[38;5;241m4\u001b[39m:\u001b[38;5;124m'\u001b[39m\u001b[38;5;124mblack\u001b[39m\u001b[38;5;124m'\u001b[39m}\n\u001b[1;32m----> 5\u001b[0m \u001b[38;5;28mprint\u001b[39m(\u001b[43mdictionary1\u001b[49m\u001b[43m \u001b[49m\u001b[38;5;241;43m+\u001b[39;49m\u001b[43m \u001b[49m\u001b[43mdictionary5\u001b[49m)\n",
      "\u001b[1;31mTypeError\u001b[0m: unsupported operand type(s) for +: 'dict' and 'dict'"
     ]
    }
   ],
   "source": [
    "# dictionary does not support addition operation\n",
    "dictionary1={1:'red',2:\"yellow\"}\n",
    "dictionary5={1:'red',2:\"yellow\",3:'blue',4:'black'}\n",
    "\n",
    "print(dictionary1 + dictionary5)"
   ]
  },
  {
   "cell_type": "markdown",
   "id": "Q9zYArEODF2H",
   "metadata": {
    "id": "Q9zYArEODF2H"
   },
   "source": [
    "#### 4.3 Indexing & Slicing"
   ]
  },
  {
   "cell_type": "code",
   "execution_count": 98,
   "id": "vb0Y951EDF2H",
   "metadata": {
    "id": "vb0Y951EDF2H",
    "outputId": "7e95485a-0e07-4645-9968-0810fb45cc88"
   },
   "outputs": [
    {
     "data": {
      "text/plain": [
       "'red'"
      ]
     },
     "execution_count": 98,
     "metadata": {},
     "output_type": "execute_result"
    }
   ],
   "source": [
    "# Indexing of dictionary using key\n",
    "dictionary1={1:'red',2:\"yellow\"}\n",
    "dictionary1[1]       # indexing is allowded with key "
   ]
  },
  {
   "cell_type": "code",
   "execution_count": 99,
   "id": "reXGTBl1DF2H",
   "metadata": {
    "id": "reXGTBl1DF2H",
    "outputId": "3b96e621-9bd1-4838-bc53-5a32e9d72e6c"
   },
   "outputs": [
    {
     "data": {
      "text/plain": [
       "'red'"
      ]
     },
     "execution_count": 99,
     "metadata": {},
     "output_type": "execute_result"
    }
   ],
   "source": [
    "dictionary1={1:'red',2:\"yellow\"}\n",
    "dictionary1[1]"
   ]
  },
  {
   "cell_type": "code",
   "execution_count": 100,
   "id": "d4158bee",
   "metadata": {},
   "outputs": [
    {
     "data": {
      "text/plain": [
       "'red'"
      ]
     },
     "execution_count": 100,
     "metadata": {},
     "output_type": "execute_result"
    }
   ],
   "source": [
    "dictionary1.get(1) # Access item using get() method"
   ]
  },
  {
   "cell_type": "code",
   "execution_count": null,
   "id": "N3hIkQL8DF2H",
   "metadata": {
    "id": "N3hIkQL8DF2H"
   },
   "outputs": [],
   "source": [
    "# slicing\n",
    "colors = {'Apple':'Red','Banana':'Yellow','Grapes':'Green'}\n",
    "colors['Apple':'Red']"
   ]
  },
  {
   "cell_type": "markdown",
   "id": "7byKiKBDDF2H",
   "metadata": {
    "id": "7byKiKBDDF2H"
   },
   "source": [
    "We can't extract more than one key-value pair "
   ]
  },
  {
   "cell_type": "code",
   "execution_count": null,
   "id": "a89e58b5",
   "metadata": {},
   "outputs": [],
   "source": []
  }
 ],
 "metadata": {
  "colab": {
   "name": "Data_structures.ipynb",
   "provenance": []
  },
  "kernelspec": {
   "display_name": "Python 3 (ipykernel)",
   "language": "python",
   "name": "python3"
  },
  "language_info": {
   "codemirror_mode": {
    "name": "ipython",
    "version": 3
   },
   "file_extension": ".py",
   "mimetype": "text/x-python",
   "name": "python",
   "nbconvert_exporter": "python",
   "pygments_lexer": "ipython3",
   "version": "3.9.12"
  }
 },
 "nbformat": 4,
 "nbformat_minor": 5
}
