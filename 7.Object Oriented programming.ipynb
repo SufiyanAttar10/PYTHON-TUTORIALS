{
 "cells": [
  {
   "cell_type": "markdown",
   "metadata": {},
   "source": [
    "## Object Oriented Programming\n",
    "\n",
    "- Functions\n",
    "- Classes and Objects\n",
    "- Inheritance"
   ]
  },
  {
   "cell_type": "markdown",
   "metadata": {},
   "source": [
    "### What is object oriented programming?\n",
    " Object Oriented programming which provides a means of structuring programs   \n",
    " so that properties and behaviours are bundled into indivisual objects."
   ]
  },
  {
   "cell_type": "markdown",
   "metadata": {},
   "source": [
    "### What are functions in python? & which are this functions?  \n",
    "\n",
    "A relation from a input to a possible output where each input is related to exactly one output.\n",
    "here we say, f: x->y (f is a function from x to y)\n",
    "\n",
    "- User-defined function\n",
    "- Built-in functions\n",
    "- Lambda functions\n",
    "- Recursion functions"
   ]
  },
  {
   "cell_type": "markdown",
   "metadata": {},
   "source": [
    "## User-defined function\n",
    "\n",
    "User-defined functions are functions that we use to organize our code. and we define ourselves to do certain specific tasks.\n",
    "\n",
    "- Advantage of user-defined functions.\n",
    "\n",
    "1.User-defined functions help to decompose a large program into small segments which makes program easy to understand.  \n",
    "2.If repeated code occurs in a program. Function can be used to include those codes and execute when needed by calling that function"
   ]
  },
  {
   "cell_type": "code",
   "execution_count": 1,
   "metadata": {},
   "outputs": [
    {
     "name": "stdout",
     "output_type": "stream",
     "text": [
      "The sum is 16\n"
     ]
    }
   ],
   "source": [
    "# the use of user-defined functions\n",
    "\n",
    "def add_numbers(x,y):\n",
    "    summation = x + y\n",
    "    return summation\n",
    "\n",
    "num1 = 10\n",
    "num2 = 6\n",
    "\n",
    "print(\"The sum is\", add_numbers(num1, num2))"
   ]
  },
  {
   "cell_type": "code",
   "execution_count": null,
   "metadata": {},
   "outputs": [],
   "source": [
    "def multiplication(first_number,second_number=10):\n",
    "    mult = first_number*second_number\n",
    "    return mult"
   ]
  },
  {
   "cell_type": "code",
   "execution_count": null,
   "metadata": {},
   "outputs": [],
   "source": [
    "multiplication(10,15)"
   ]
  },
  {
   "cell_type": "code",
   "execution_count": null,
   "metadata": {},
   "outputs": [],
   "source": [
    "def average(numbers):\n",
    "    summation = sum(numbers)\n",
    "    n = len(numbers)\n",
    "    average = summation/n\n",
    "    return average\n",
    "average([1,5,3,8])"
   ]
  },
  {
   "cell_type": "code",
   "execution_count": null,
   "metadata": {},
   "outputs": [],
   "source": [
    "def abc(value_1, value_2):\n",
    "    mult = (value_1,value_2)\n",
    "    aver = average([value_1,value_2])\n",
    "    return mult"
   ]
  },
  {
   "cell_type": "code",
   "execution_count": null,
   "metadata": {},
   "outputs": [],
   "source": [
    "mult(7,9)\n",
    "print(\"multiplication is {} and average is {}\",(mult,avr))"
   ]
  },
  {
   "cell_type": "markdown",
   "metadata": {},
   "source": [
    "## Built-in functions\n",
    "\n",
    "The Built-in functions whose functionality is pre-defined in Python.The python interpreter has several functions that are always present for use.  \n",
    "There are 64 built-in functions. \n",
    "https://www.w3schools.com/python/python_ref_functions.asp click the link to see all the built-in functions."
   ]
  },
  {
   "cell_type": "code",
   "execution_count": 24,
   "metadata": {},
   "outputs": [
    {
     "data": {
      "text/plain": [
       "20"
      ]
     },
     "execution_count": 24,
     "metadata": {},
     "output_type": "execute_result"
    }
   ],
   "source": [
    "## abs() function is used to return the absolute value of a number\n",
    "abs(-20)"
   ]
  },
  {
   "cell_type": "code",
   "execution_count": null,
   "metadata": {},
   "outputs": [],
   "source": [
    "## sum() function is used to get the sum of numbers of an iterable like list\n",
    "s = sum([1, 2,4 ])  \n",
    "print(s)  "
   ]
  },
  {
   "cell_type": "code",
   "execution_count": 1,
   "metadata": {},
   "outputs": [
    {
     "data": {
      "text/plain": [
       "25"
      ]
     },
     "execution_count": 1,
     "metadata": {},
     "output_type": "execute_result"
    }
   ],
   "source": [
    "sum([10,15])"
   ]
  },
  {
   "cell_type": "code",
   "execution_count": 2,
   "metadata": {},
   "outputs": [
    {
     "name": "stdout",
     "output_type": "stream",
     "text": [
      "17\n"
     ]
    }
   ],
   "source": [
    "## another Ex.of sum\n",
    "s = sum([1, 2, 4], 10)  \n",
    "print(s) "
   ]
  },
  {
   "cell_type": "code",
   "execution_count": 3,
   "metadata": {},
   "outputs": [
    {
     "data": {
      "text/plain": [
       "(1+0j)"
      ]
     },
     "execution_count": 3,
     "metadata": {},
     "output_type": "execute_result"
    }
   ],
   "source": [
    "## complex() function is used to convert numbers or string into a complex number\n",
    "a = complex(1)\n",
    "a"
   ]
  },
  {
   "cell_type": "code",
   "execution_count": 4,
   "metadata": {},
   "outputs": [
    {
     "data": {
      "text/plain": [
       "(1+2j)"
      ]
     },
     "execution_count": 4,
     "metadata": {},
     "output_type": "execute_result"
    }
   ],
   "source": [
    "b = complex(1,2)\n",
    "b"
   ]
  },
  {
   "cell_type": "code",
   "execution_count": 2,
   "metadata": {},
   "outputs": [
    {
     "name": "stdout",
     "output_type": "stream",
     "text": [
      "The filtered letters\n",
      "i\n",
      "i\n",
      "a\n",
      "e\n"
     ]
    }
   ],
   "source": [
    "## filter() function is used to get filtered elements.\n",
    "def fun(variable):\n",
    "    letters = ['a', 'e', 'i', 'o', 'u']\n",
    "    if (variable in letters):\n",
    "        return True\n",
    "    else:\n",
    "        return False\n",
    "\n",
    "    \n",
    "sequence = ['c', 'i', 'i', 'r', 'a', 't', 'p', 'e']\n",
    "  \n",
    "filtered = filter(fun, sequence)\n",
    "  \n",
    "print('The filtered letters')\n",
    "for a in filtered:\n",
    "    print(a)"
   ]
  },
  {
   "cell_type": "code",
   "execution_count": 5,
   "metadata": {},
   "outputs": [
    {
     "data": {
      "text/plain": [
       "435"
      ]
     },
     "execution_count": 5,
     "metadata": {},
     "output_type": "execute_result"
    }
   ],
   "source": [
    "## min() function is used to get the smallest element from the collection\n",
    "\n",
    "min(53636,3355,435,3324)"
   ]
  },
  {
   "cell_type": "code",
   "execution_count": 6,
   "metadata": {},
   "outputs": [
    {
     "data": {
      "text/plain": [
       "list"
      ]
     },
     "execution_count": 6,
     "metadata": {},
     "output_type": "execute_result"
    }
   ],
   "source": [
    "## type() returns the type of the specified object\n",
    "a = [4, 5]  \n",
    "type(a)"
   ]
  },
  {
   "cell_type": "code",
   "execution_count": 7,
   "metadata": {},
   "outputs": [
    {
     "data": {
      "text/plain": [
       "tuple"
      ]
     },
     "execution_count": 7,
     "metadata": {},
     "output_type": "execute_result"
    }
   ],
   "source": [
    "b = (4,3,6,5)\n",
    "type(b)"
   ]
  },
  {
   "cell_type": "markdown",
   "metadata": {},
   "source": [
    "## Lambda functions\n",
    "\n",
    "Lambda function is also called as Anonymous function. lambda functions when we have nameless function.  \n",
    "lambda functions used along with built-in functions like filter() , map() etc."
   ]
  },
  {
   "cell_type": "code",
   "execution_count": 10,
   "metadata": {},
   "outputs": [],
   "source": [
    "import time"
   ]
  },
  {
   "cell_type": "code",
   "execution_count": 11,
   "metadata": {},
   "outputs": [],
   "source": [
    "lst = []\n",
    "for i in range(1000000):\n",
    "    lst.append(i)"
   ]
  },
  {
   "cell_type": "code",
   "execution_count": 12,
   "metadata": {},
   "outputs": [
    {
     "name": "stdout",
     "output_type": "stream",
     "text": [
      "processing time 1.3373713493347168\n"
     ]
    }
   ],
   "source": [
    "t0=time.time()\n",
    "lst_1=[]\n",
    "for element in lst:\n",
    "    lst_1.append(pow(element,3))\n",
    "print(\"processing time\",time.time()-t0)"
   ]
  },
  {
   "cell_type": "code",
   "execution_count": 13,
   "metadata": {},
   "outputs": [
    {
     "name": "stdout",
     "output_type": "stream",
     "text": [
      "processing time 0.0010020732879638672\n"
     ]
    }
   ],
   "source": [
    "## lambda function with map()\n",
    "# list1 = [1,2,3,4,5,6,7,8,9]\n",
    "t0=time.time()\n",
    "a = map(lambda x: pow(x,3), lst_1)\n",
    "print(\"processing time\",time.time()-t0)\n",
    "# list(a)"
   ]
  },
  {
   "cell_type": "code",
   "execution_count": 18,
   "metadata": {},
   "outputs": [],
   "source": [
    "a = list(a)"
   ]
  },
  {
   "cell_type": "code",
   "execution_count": 19,
   "metadata": {},
   "outputs": [
    {
     "data": {
      "text/plain": [
       "1000000"
      ]
     },
     "execution_count": 19,
     "metadata": {},
     "output_type": "execute_result"
    }
   ],
   "source": [
    "len(a)"
   ]
  },
  {
   "cell_type": "code",
   "execution_count": 20,
   "metadata": {},
   "outputs": [
    {
     "data": {
      "text/plain": [
       "1000000"
      ]
     },
     "execution_count": 20,
     "metadata": {},
     "output_type": "execute_result"
    }
   ],
   "source": [
    "len(lst_1)"
   ]
  },
  {
   "cell_type": "code",
   "execution_count": null,
   "metadata": {},
   "outputs": [],
   "source": []
  },
  {
   "cell_type": "code",
   "execution_count": null,
   "metadata": {},
   "outputs": [],
   "source": []
  },
  {
   "cell_type": "code",
   "execution_count": 21,
   "metadata": {},
   "outputs": [
    {
     "data": {
      "text/plain": [
       "64"
      ]
     },
     "execution_count": 21,
     "metadata": {},
     "output_type": "execute_result"
    }
   ],
   "source": [
    "b = lambda x: x**2\n",
    "b(8)"
   ]
  },
  {
   "cell_type": "code",
   "execution_count": 22,
   "metadata": {},
   "outputs": [
    {
     "data": {
      "text/plain": [
       "[65, 39, 221]"
      ]
     },
     "execution_count": 22,
     "metadata": {},
     "output_type": "execute_result"
    }
   ],
   "source": [
    "## lambda functon with filter() \n",
    "list2 = [12, 65, 54, 39, 102, 339, 221, 50, 70, ]\n",
    "a = list(filter(lambda x: (x % 13 == 0), list2))\n",
    "a"
   ]
  },
  {
   "cell_type": "code",
   "execution_count": 26,
   "metadata": {},
   "outputs": [
    {
     "data": {
      "text/plain": [
       "True"
      ]
     },
     "execution_count": 26,
     "metadata": {},
     "output_type": "execute_result"
    }
   ],
   "source": [
    "## lambda function with even number\n",
    "even1 = lambda x:x%2==0\n",
    "even1(14)"
   ]
  },
  {
   "cell_type": "markdown",
   "metadata": {},
   "source": [
    "## Recursion functions\n",
    "\n",
    "What is Recursion in Python?\n",
    "   Recursion is process of determining something in terms of itself.  \n",
    "   as we know in python a function call any other function and we can use function to call itself as well."
   ]
  },
  {
   "cell_type": "markdown",
   "metadata": {},
   "source": [
    "##### Advantages of Recursion\n",
    "recursive functions make the code look clean.    \n",
    "sequence generation is easier with recursion.\n",
    "#### Disadvantages of Recursion  \n",
    "recursive calls are expensive they take up a lot of memory and time.  \n",
    "recursive function are hard to debug.  "
   ]
  },
  {
   "cell_type": "code",
   "execution_count": 27,
   "metadata": {},
   "outputs": [
    {
     "name": "stdout",
     "output_type": "stream",
     "text": [
      "The factorial of 7 is 5040\n"
     ]
    }
   ],
   "source": [
    "## using recursive function we find a factorial\n",
    "def factorial(n):\n",
    "    if n == 1:\n",
    "        return n\n",
    "    else:\n",
    "        return (n * factorial(n-1))\n",
    "    \n",
    "num = 7\n",
    "print(\"The factorial of\", num, \"is\", factorial(num))"
   ]
  },
  {
   "cell_type": "markdown",
   "metadata": {},
   "source": [
    "## Classes & Objects\n",
    "\n",
    "   A Class is code for creating a objects & type of class is user-defined.  \n",
    "   In python a class is created by the keyword class.& object is created using the constructor of the class  \n",
    "   we can create many objects from same type of class.\n",
    "   \n",
    "   "
   ]
  },
  {
   "cell_type": "code",
   "execution_count": 46,
   "metadata": {},
   "outputs": [],
   "source": [
    "## Define a class info\n",
    "class info:\n",
    "    def __init__(self,name,gender,age):\n",
    "        self.name = name\n",
    "        self.gender = gender\n",
    "        self.age=age\n",
    "\n",
    "    def get_data(self):\n",
    "        print('name= ',self.name)"
   ]
  },
  {
   "cell_type": "code",
   "execution_count": 47,
   "metadata": {},
   "outputs": [],
   "source": [
    "## while instating a class objcet we need to pass all the argument that we have defined in the __init__ function"
   ]
  },
  {
   "cell_type": "code",
   "execution_count": 48,
   "metadata": {
    "scrolled": true
   },
   "outputs": [
    {
     "name": "stdout",
     "output_type": "stream",
     "text": [
      "name=  shweta\n"
     ]
    }
   ],
   "source": [
    "a = info('shweta','female',26)\n",
    "a.get_data()"
   ]
  },
  {
   "cell_type": "code",
   "execution_count": 32,
   "metadata": {},
   "outputs": [],
   "source": [
    "class info:\n",
    "    \n",
    "    ## instance attributes\n",
    "    def __init__(self, name,gender,qualification,age):\n",
    "        self.name = name\n",
    "        self.gender = gender\n",
    "        self.qualification =qualification\n",
    "        self.age =age\n",
    "        \n",
    "    ## instance method\n",
    "    def information(self):\n",
    "        print(\"{} is a {} with age {}\".format(self.name,self.gender,self.age))\n",
    "        \n",
    "    def Qualification(self):\n",
    "        print('qualification of {} is {}'.format(self.name,self.qualification))"
   ]
  },
  {
   "cell_type": "code",
   "execution_count": 33,
   "metadata": {},
   "outputs": [
    {
     "name": "stdout",
     "output_type": "stream",
     "text": [
      "Abc is a female with age 26\n",
      "qualification of Abc is masters of science\n"
     ]
    }
   ],
   "source": [
    "a = info('Abc', 'female','masters of science',26)\n",
    "a.information()\n",
    "a.Qualification()"
   ]
  },
  {
   "cell_type": "code",
   "execution_count": 43,
   "metadata": {},
   "outputs": [
    {
     "name": "stdout",
     "output_type": "stream",
     "text": [
      "Shridhar is a Male with age 26\n",
      "qualification of Shridhar is Master of science\n"
     ]
    }
   ],
   "source": [
    "b = info(\"Shridhar\",\"Male\",\"Master of science\",26)\n",
    "b.information()\n",
    "b.Qualification()"
   ]
  },
  {
   "cell_type": "code",
   "execution_count": 44,
   "metadata": {},
   "outputs": [],
   "source": [
    "class info:\n",
    "    \n",
    "    ## instance attributes\n",
    "    def __init__(self, name,gender,qualification,age):\n",
    "        self.name = name\n",
    "        self.gender = gender\n",
    "        self.qualification =qualification\n",
    "        self.age =age\n",
    "        \n",
    "    ## instance method\n",
    "    def information(self):\n",
    "        print(\"{} is a {} with age {}\".format(self.name,self.gender,self.age))\n",
    "        \n",
    "    def Qualification(self):\n",
    "        print('qualification of {} is {}'.format(self.name,self.qualification))\n",
    "\n",
    "## child class \n",
    "class child(info):\n",
    "    def child_info(self):\n",
    "        print(self.name)"
   ]
  },
  {
   "cell_type": "code",
   "execution_count": 45,
   "metadata": {},
   "outputs": [
    {
     "name": "stdout",
     "output_type": "stream",
     "text": [
      "Sandip is a male with age 25\n"
     ]
    }
   ],
   "source": [
    "## Instatiate the class/objects\n",
    "abc = child('Sandip','male','masters',25)\n",
    "## call our instance method\n",
    "abc.information()"
   ]
  },
  {
   "cell_type": "code",
   "execution_count": 36,
   "metadata": {},
   "outputs": [
    {
     "name": "stdout",
     "output_type": "stream",
     "text": [
      "Sandip\n"
     ]
    }
   ],
   "source": [
    "abc.child_info()"
   ]
  },
  {
   "cell_type": "code",
   "execution_count": 37,
   "metadata": {},
   "outputs": [
    {
     "name": "stdout",
     "output_type": "stream",
     "text": [
      "qualification of Sandip is masters\n"
     ]
    }
   ],
   "source": [
    "abc.Qualification()"
   ]
  },
  {
   "cell_type": "markdown",
   "metadata": {},
   "source": [
    "# Inheritance"
   ]
  },
  {
   "cell_type": "markdown",
   "metadata": {},
   "source": [
    "#### What is Inheritance?\n",
    "  Inheritance is a capability of one class to derive the properties from another class.\n",
    "  \n",
    "- Types of Inheritance  \n",
    "1). Single inheritance.  \n",
    "2). Multiple inheritances.  \n",
    "3). Multilevel inheritance.  \n",
    "4). Hierarchical inheritance.  \n",
    "5). Hybrid inheritance."
   ]
  },
  {
   "cell_type": "markdown",
   "metadata": {},
   "source": [
    "### Single Inheritance\n",
    " When child class is derived from only one parent class."
   ]
  },
  {
   "cell_type": "code",
   "execution_count": 8,
   "metadata": {},
   "outputs": [
    {
     "name": "stdout",
     "output_type": "stream",
     "text": [
      "myntra is an Online Ecommerce Store\n",
      "ebay is an Online Store\n",
      "Dmart is an Offline Buy Store\n"
     ]
    }
   ],
   "source": [
    "### single Inheritance \n",
    "\n",
    "class brands:          ## parent class\n",
    "    brand_1 = \"myntra\"\n",
    "    brand_2 = \"ebay\"\n",
    "    brand_3 = \"Dmart\"\n",
    "    \n",
    "    def print_value(self):\n",
    "        print(self.brand_1)\n",
    "    \n",
    "class products(brands):  ## child class\n",
    "    prod_1 = \"Online Ecommerce Store\" \n",
    "    prod_2 = \"Online Store\"\n",
    "    prod_3 = \"Offline Buy Store\"\n",
    "    \n",
    "obj = products()\n",
    "print(obj.brand_1  +' ' \"is an\" ' '  + obj.prod_1)\n",
    "print(obj.brand_2  +' ' \"is an\" ' ' + obj.prod_2)\n",
    "print(obj.brand_3  +' ' \"is an\" ' ' + obj.prod_3)\n",
    "    "
   ]
  },
  {
   "cell_type": "code",
   "execution_count": 39,
   "metadata": {},
   "outputs": [],
   "source": [
    "abc = brands()"
   ]
  },
  {
   "cell_type": "code",
   "execution_count": 40,
   "metadata": {},
   "outputs": [
    {
     "name": "stdout",
     "output_type": "stream",
     "text": [
      "myntra\n"
     ]
    }
   ],
   "source": [
    "abc.print_value()"
   ]
  },
  {
   "cell_type": "code",
   "execution_count": null,
   "metadata": {},
   "outputs": [],
   "source": []
  },
  {
   "cell_type": "markdown",
   "metadata": {},
   "source": [
    "### Multiple inheritances\n",
    "  when child class is derived or inherited from the more than one parent classes."
   ]
  },
  {
   "cell_type": "code",
   "execution_count": 10,
   "metadata": {},
   "outputs": [],
   "source": [
    "## Multiple inheritances\n",
    "class brands:          ## parent class\n",
    "    brand_1 = \"myntra\"\n",
    "    brand_2 = \"ebay\"\n",
    "    brand_3 = \"Dmart\"\n",
    "    \n",
    "class products:  ## child class\n",
    "    prod_1 = \"Online Ecommerce Store\" \n",
    "    prod_2 = \"Online Store\"\n",
    "    prod_3 = \"Offline Buy Store\"\n",
    "    \n",
    "class popularity(brands,products):\n",
    "    popularity_1=100\n",
    "    popularity_2=70\n",
    "    popularity_3=60\n",
    "    "
   ]
  },
  {
   "cell_type": "code",
   "execution_count": 11,
   "metadata": {},
   "outputs": [
    {
     "name": "stdout",
     "output_type": "stream",
     "text": [
      "myntrais anOnline Ecommerce Store\n",
      "ebayis anOnline Store\n",
      "Dmartis anOffline Buy Store\n"
     ]
    }
   ],
   "source": [
    "obj = popularity()\n",
    "print(obj.brand_1+\"is an\"+obj.prod_1)\n",
    "print(obj.brand_2+\"is an\"+obj.prod_2)\n",
    "print(obj.brand_3+\"is an\"+obj.prod_3)"
   ]
  },
  {
   "cell_type": "code",
   "execution_count": 12,
   "metadata": {},
   "outputs": [
    {
     "data": {
      "text/plain": [
       "'ebay'"
      ]
     },
     "execution_count": 12,
     "metadata": {},
     "output_type": "execute_result"
    }
   ],
   "source": [
    "obj.brand_2"
   ]
  },
  {
   "cell_type": "markdown",
   "metadata": {},
   "source": [
    "### Multilevel inheritance\n",
    " Derived from parent class we have one parent class and child class so we have a grand-child class that is derived from the child class."
   ]
  },
  {
   "cell_type": "code",
   "execution_count": 16,
   "metadata": {},
   "outputs": [
    {
     "name": "stdout",
     "output_type": "stream",
     "text": [
      "myntrais anOnline Ecommerce Store popularity of 100\n",
      "ebayis anOnline Store popularity of 70\n",
      "Dmartis anOffline Buy Store popularity of 60\n"
     ]
    }
   ],
   "source": [
    "class brands:          ## parent class\n",
    "    brand_1 = \"myntra\"\n",
    "    brand_2 = \"ebay\"\n",
    "    brand_3 = \"Dmart\"\n",
    "    \n",
    "class products(brands):  ## child class\n",
    "    prod_1 = \"Online Ecommerce Store\" \n",
    "    prod_2 = \"Online Store\"\n",
    "    prod_3 = \"Offline Buy Store\"\n",
    "    \n",
    "class popularity(products):  ## Grand child class\n",
    "    popularity_1=100\n",
    "    popularity_2=70\n",
    "    popularity_3=60\n",
    "    \n",
    "obj = popularity()\n",
    "print(obj.brand_1+\"is an\"+obj.prod_1+' '\"popularity of\"' '+str(obj.popularity_1))\n",
    "print(obj.brand_2+\"is an\"+obj.prod_2+' '\"popularity of\"' '+str(obj.popularity_2))\n",
    "print(obj.brand_3+\"is an\"+obj.prod_3+' '\"popularity of\"' ' +str(obj.popularity_3))"
   ]
  },
  {
   "cell_type": "markdown",
   "metadata": {},
   "source": [
    "### Hierarchical inheritance.\n",
    "   When we derive more than one child class from one(same) parent class"
   ]
  },
  {
   "cell_type": "code",
   "execution_count": 23,
   "metadata": {},
   "outputs": [
    {
     "name": "stdout",
     "output_type": "stream",
     "text": [
      "myntra is an Online Ecommerce Store popularity of 100 and value is Excellent\n",
      "ebay is an Online Store popularity of 70 and value is Better\n",
      "Dmart is an Offline Buy Store popularity of 60 and value is Good\n"
     ]
    }
   ],
   "source": [
    "class brands:          ## parent class\n",
    "    brand_1 = \"myntra\"\n",
    "    brand_2 = \"ebay\"\n",
    "    brand_3 = \"Dmart\"\n",
    "    \n",
    "class products(brands):  ## child class\n",
    "    prod_1 = \"Online Ecommerce Store\" \n",
    "    prod_2 = \"Online Store\"\n",
    "    prod_3 = \"Offline Buy Store\"\n",
    "    \n",
    "class popularity(brands):  ## Grand child class\n",
    "    popularity_1=100\n",
    "    popularity_2=70\n",
    "    popularity_3=60     \n",
    "    \n",
    "class value(brands):  \n",
    "    value_1=\"Excellent\"\n",
    "    value_2=\"Better\"\n",
    "    value_3=\"Good\"\n",
    "    \n",
    "obj_1 = products() \n",
    "obj_2 = popularity()\n",
    "obj_3 = value()\n",
    "print(obj_1.brand_1+' '\"is an\"' '+obj_1.prod_1+' '\"popularity of\"' '+str(obj_2.popularity_1)+' '\"and value is\"' '+obj_3.value_1)\n",
    "print(obj_1.brand_2+' '\"is an\"' ' +obj_1.prod_2+' '\"popularity of\"' '+str(obj_2.popularity_2)+' '\"and value is\"' '+obj_3.value_2)\n",
    "print(obj_1.brand_3+' '\"is an\"' '+obj_1.prod_3+' '\"popularity of\"' '+str(obj_2.popularity_3)+' '\"and value is\"' '+obj_3.value_3)"
   ]
  },
  {
   "cell_type": "code",
   "execution_count": null,
   "metadata": {},
   "outputs": [],
   "source": []
  }
 ],
 "metadata": {
  "kernelspec": {
   "display_name": "Python 3 (ipykernel)",
   "language": "python",
   "name": "python3"
  },
  "language_info": {
   "codemirror_mode": {
    "name": "ipython",
    "version": 3
   },
   "file_extension": ".py",
   "mimetype": "text/x-python",
   "name": "python",
   "nbconvert_exporter": "python",
   "pygments_lexer": "ipython3",
   "version": "3.9.12"
  }
 },
 "nbformat": 4,
 "nbformat_minor": 4
}
